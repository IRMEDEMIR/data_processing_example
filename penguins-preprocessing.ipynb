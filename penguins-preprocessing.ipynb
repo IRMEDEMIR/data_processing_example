{
 "cells": [
  {
   "cell_type": "code",
   "execution_count": 169,
   "id": "9181d061-6bff-47a9-a866-6a4e946ece3c",
   "metadata": {
    "tags": []
   },
   "outputs": [
    {
     "data": {
      "text/html": [
       "<div>\n",
       "<style scoped>\n",
       "    .dataframe tbody tr th:only-of-type {\n",
       "        vertical-align: middle;\n",
       "    }\n",
       "\n",
       "    .dataframe tbody tr th {\n",
       "        vertical-align: top;\n",
       "    }\n",
       "\n",
       "    .dataframe thead th {\n",
       "        text-align: right;\n",
       "    }\n",
       "</style>\n",
       "<table border=\"1\" class=\"dataframe\">\n",
       "  <thead>\n",
       "    <tr style=\"text-align: right;\">\n",
       "      <th></th>\n",
       "      <th>species</th>\n",
       "      <th>island</th>\n",
       "      <th>culmen_length_mm</th>\n",
       "      <th>culmen_depth_mm</th>\n",
       "      <th>flipper_length_mm</th>\n",
       "      <th>body_mass_g</th>\n",
       "      <th>sex</th>\n",
       "    </tr>\n",
       "  </thead>\n",
       "  <tbody>\n",
       "    <tr>\n",
       "      <th>0</th>\n",
       "      <td>Adelie</td>\n",
       "      <td>Torgersen</td>\n",
       "      <td>37.8</td>\n",
       "      <td>18.7</td>\n",
       "      <td>181.0</td>\n",
       "      <td>3750.0</td>\n",
       "      <td>MALE</td>\n",
       "    </tr>\n",
       "    <tr>\n",
       "      <th>1</th>\n",
       "      <td>Adelie</td>\n",
       "      <td>Torgersen</td>\n",
       "      <td>35.5</td>\n",
       "      <td>17.4</td>\n",
       "      <td>186.0</td>\n",
       "      <td>3800.0</td>\n",
       "      <td>FEMALE</td>\n",
       "    </tr>\n",
       "    <tr>\n",
       "      <th>2</th>\n",
       "      <td>Adelie</td>\n",
       "      <td>Torgersen</td>\n",
       "      <td>40.3</td>\n",
       "      <td>18.0</td>\n",
       "      <td>195.0</td>\n",
       "      <td>3250.0</td>\n",
       "      <td>FEMALE</td>\n",
       "    </tr>\n",
       "    <tr>\n",
       "      <th>3</th>\n",
       "      <td>Adelie</td>\n",
       "      <td>Torgersen</td>\n",
       "      <td>NaN</td>\n",
       "      <td>NaN</td>\n",
       "      <td>NaN</td>\n",
       "      <td>NaN</td>\n",
       "      <td>NaN</td>\n",
       "    </tr>\n",
       "    <tr>\n",
       "      <th>4</th>\n",
       "      <td>Adelie</td>\n",
       "      <td>Torgersen</td>\n",
       "      <td>36.7</td>\n",
       "      <td>19.3</td>\n",
       "      <td>193.0</td>\n",
       "      <td>3450.0</td>\n",
       "      <td>FEMALE</td>\n",
       "    </tr>\n",
       "    <tr>\n",
       "      <th>...</th>\n",
       "      <td>...</td>\n",
       "      <td>...</td>\n",
       "      <td>...</td>\n",
       "      <td>...</td>\n",
       "      <td>...</td>\n",
       "      <td>...</td>\n",
       "      <td>...</td>\n",
       "    </tr>\n",
       "    <tr>\n",
       "      <th>339</th>\n",
       "      <td>Gentoo</td>\n",
       "      <td>Biscoe</td>\n",
       "      <td>NaN</td>\n",
       "      <td>NaN</td>\n",
       "      <td>NaN</td>\n",
       "      <td>NaN</td>\n",
       "      <td>NaN</td>\n",
       "    </tr>\n",
       "    <tr>\n",
       "      <th>340</th>\n",
       "      <td>Gentoo</td>\n",
       "      <td>Biscoe</td>\n",
       "      <td>46.8</td>\n",
       "      <td>14.3</td>\n",
       "      <td>215.0</td>\n",
       "      <td>4850.0</td>\n",
       "      <td>FEMALE</td>\n",
       "    </tr>\n",
       "    <tr>\n",
       "      <th>341</th>\n",
       "      <td>Gentoo</td>\n",
       "      <td>Biscoe</td>\n",
       "      <td>50.4</td>\n",
       "      <td>15.7</td>\n",
       "      <td>222.0</td>\n",
       "      <td>5750.0</td>\n",
       "      <td>MALE</td>\n",
       "    </tr>\n",
       "    <tr>\n",
       "      <th>342</th>\n",
       "      <td>Gentoo</td>\n",
       "      <td>Biscoe</td>\n",
       "      <td>45.2</td>\n",
       "      <td>14.8</td>\n",
       "      <td>212.0</td>\n",
       "      <td>5200.0</td>\n",
       "      <td>FEMALE</td>\n",
       "    </tr>\n",
       "    <tr>\n",
       "      <th>343</th>\n",
       "      <td>Gentoo</td>\n",
       "      <td>Biscoe</td>\n",
       "      <td>49.9</td>\n",
       "      <td>16.1</td>\n",
       "      <td>213.0</td>\n",
       "      <td>5400.0</td>\n",
       "      <td>MALE</td>\n",
       "    </tr>\n",
       "  </tbody>\n",
       "</table>\n",
       "<p>344 rows × 7 columns</p>\n",
       "</div>"
      ],
      "text/plain": [
       "    species     island  culmen_length_mm  culmen_depth_mm  flipper_length_mm  \\\n",
       "0    Adelie  Torgersen              37.8             18.7              181.0   \n",
       "1    Adelie  Torgersen              35.5             17.4              186.0   \n",
       "2    Adelie  Torgersen              40.3             18.0              195.0   \n",
       "3    Adelie  Torgersen               NaN              NaN                NaN   \n",
       "4    Adelie  Torgersen              36.7             19.3              193.0   \n",
       "..      ...        ...               ...              ...                ...   \n",
       "339  Gentoo     Biscoe               NaN              NaN                NaN   \n",
       "340  Gentoo     Biscoe              46.8             14.3              215.0   \n",
       "341  Gentoo     Biscoe              50.4             15.7              222.0   \n",
       "342  Gentoo     Biscoe              45.2             14.8              212.0   \n",
       "343  Gentoo     Biscoe              49.9             16.1              213.0   \n",
       "\n",
       "     body_mass_g     sex  \n",
       "0         3750.0    MALE  \n",
       "1         3800.0  FEMALE  \n",
       "2         3250.0  FEMALE  \n",
       "3            NaN     NaN  \n",
       "4         3450.0  FEMALE  \n",
       "..           ...     ...  \n",
       "339          NaN     NaN  \n",
       "340       4850.0  FEMALE  \n",
       "341       5750.0    MALE  \n",
       "342       5200.0  FEMALE  \n",
       "343       5400.0    MALE  \n",
       "\n",
       "[344 rows x 7 columns]"
      ]
     },
     "execution_count": 169,
     "metadata": {},
     "output_type": "execute_result"
    }
   ],
   "source": [
    "import pandas as pd\n",
    "import seaborn as sb\n",
    "data = pd.read_csv(\"penguins_size.csv\")\n",
    "peng = data.copy()\n",
    "peng"
   ]
  },
  {
   "cell_type": "markdown",
   "id": "06295df7-3d15-4b12-bf41-947435b9551b",
   "metadata": {},
   "source": [
    "Veri Seti Hikayesi: bu veri setinde penguenlerin özellikleri listeleniyor.\n",
    "species: tür\n",
    "island: ada\n",
    "culmen_length_mm: gaga uzunluğu mm cinsinden\n",
    "culmen_depth_mm: gaga derinliği mm cinsinden\n",
    "flipper_length_mm: yüzgeç uzunluğu mm cinsinden\n",
    "body_mass_g: vücut ağırlığı g cinsinden\n",
    "sex: cinsiyet"
   ]
  },
  {
   "cell_type": "code",
   "execution_count": 170,
   "id": "17f0023d-a2e7-4b43-abe7-6d4018b63941",
   "metadata": {
    "tags": []
   },
   "outputs": [
    {
     "data": {
      "text/plain": [
       "(344, 7)"
      ]
     },
     "execution_count": 170,
     "metadata": {},
     "output_type": "execute_result"
    }
   ],
   "source": [
    "peng.shape  #satır sütun sayısı "
   ]
  },
  {
   "cell_type": "markdown",
   "id": "c36af143-fa12-4d4b-932a-b5a939bda3f8",
   "metadata": {},
   "source": [
    "Verisetimiz 344 satır 7 sütundan oluşmakta"
   ]
  },
  {
   "cell_type": "code",
   "execution_count": 171,
   "id": "282cabce-7b06-44ff-8f1c-0166cf31c7e9",
   "metadata": {
    "tags": []
   },
   "outputs": [
    {
     "name": "stdout",
     "output_type": "stream",
     "text": [
      "<class 'pandas.core.frame.DataFrame'>\n",
      "RangeIndex: 344 entries, 0 to 343\n",
      "Data columns (total 7 columns):\n",
      " #   Column             Non-Null Count  Dtype  \n",
      "---  ------             --------------  -----  \n",
      " 0   species            344 non-null    object \n",
      " 1   island             344 non-null    object \n",
      " 2   culmen_length_mm   342 non-null    float64\n",
      " 3   culmen_depth_mm    342 non-null    float64\n",
      " 4   flipper_length_mm  342 non-null    float64\n",
      " 5   body_mass_g        342 non-null    float64\n",
      " 6   sex                333 non-null    object \n",
      "dtypes: float64(4), object(3)\n",
      "memory usage: 18.9+ KB\n"
     ]
    }
   ],
   "source": [
    "peng.info()  #değişkenler ve tipleri"
   ]
  },
  {
   "cell_type": "markdown",
   "id": "ca2d90a1-18f0-4c04-a803-c756344c8e9b",
   "metadata": {},
   "source": [
    "344 gözlem değeri var\n",
    "7 değişken var\n",
    "Ramda 18.9 kb yer tutuyor"
   ]
  },
  {
   "cell_type": "code",
   "execution_count": 172,
   "id": "b9db4215-1398-4ec9-a106-6a428c2223db",
   "metadata": {
    "tags": []
   },
   "outputs": [
    {
     "data": {
      "text/html": [
       "<div>\n",
       "<style scoped>\n",
       "    .dataframe tbody tr th:only-of-type {\n",
       "        vertical-align: middle;\n",
       "    }\n",
       "\n",
       "    .dataframe tbody tr th {\n",
       "        vertical-align: top;\n",
       "    }\n",
       "\n",
       "    .dataframe thead th {\n",
       "        text-align: right;\n",
       "    }\n",
       "</style>\n",
       "<table border=\"1\" class=\"dataframe\">\n",
       "  <thead>\n",
       "    <tr style=\"text-align: right;\">\n",
       "      <th></th>\n",
       "      <th>count</th>\n",
       "      <th>mean</th>\n",
       "      <th>std</th>\n",
       "      <th>min</th>\n",
       "      <th>25%</th>\n",
       "      <th>50%</th>\n",
       "      <th>75%</th>\n",
       "      <th>max</th>\n",
       "    </tr>\n",
       "  </thead>\n",
       "  <tbody>\n",
       "    <tr>\n",
       "      <th>culmen_length_mm</th>\n",
       "      <td>342.0</td>\n",
       "      <td>43.999415</td>\n",
       "      <td>6.060134</td>\n",
       "      <td>20.0</td>\n",
       "      <td>39.35</td>\n",
       "      <td>44.7</td>\n",
       "      <td>48.675</td>\n",
       "      <td>64.8</td>\n",
       "    </tr>\n",
       "    <tr>\n",
       "      <th>culmen_depth_mm</th>\n",
       "      <td>342.0</td>\n",
       "      <td>17.162865</td>\n",
       "      <td>2.544719</td>\n",
       "      <td>9.5</td>\n",
       "      <td>15.40</td>\n",
       "      <td>17.3</td>\n",
       "      <td>18.700</td>\n",
       "      <td>42.1</td>\n",
       "    </tr>\n",
       "    <tr>\n",
       "      <th>flipper_length_mm</th>\n",
       "      <td>342.0</td>\n",
       "      <td>201.149123</td>\n",
       "      <td>14.734144</td>\n",
       "      <td>153.0</td>\n",
       "      <td>190.00</td>\n",
       "      <td>197.0</td>\n",
       "      <td>214.000</td>\n",
       "      <td>251.0</td>\n",
       "    </tr>\n",
       "    <tr>\n",
       "      <th>body_mass_g</th>\n",
       "      <td>342.0</td>\n",
       "      <td>4199.309942</td>\n",
       "      <td>860.058405</td>\n",
       "      <td>1568.0</td>\n",
       "      <td>3550.00</td>\n",
       "      <td>4000.0</td>\n",
       "      <td>4768.750</td>\n",
       "      <td>6700.0</td>\n",
       "    </tr>\n",
       "  </tbody>\n",
       "</table>\n",
       "</div>"
      ],
      "text/plain": [
       "                   count         mean         std     min      25%     50%  \\\n",
       "culmen_length_mm   342.0    43.999415    6.060134    20.0    39.35    44.7   \n",
       "culmen_depth_mm    342.0    17.162865    2.544719     9.5    15.40    17.3   \n",
       "flipper_length_mm  342.0   201.149123   14.734144   153.0   190.00   197.0   \n",
       "body_mass_g        342.0  4199.309942  860.058405  1568.0  3550.00  4000.0   \n",
       "\n",
       "                        75%     max  \n",
       "culmen_length_mm     48.675    64.8  \n",
       "culmen_depth_mm      18.700    42.1  \n",
       "flipper_length_mm   214.000   251.0  \n",
       "body_mass_g        4768.750  6700.0  "
      ]
     },
     "execution_count": 172,
     "metadata": {},
     "output_type": "execute_result"
    }
   ],
   "source": [
    "peng.describe().T  #sayısal değişkenlerin betmsel özellikleri"
   ]
  },
  {
   "cell_type": "markdown",
   "id": "6ce64e3c-7581-4b2f-8f82-538da7b36dd2",
   "metadata": {},
   "source": [
    "sayısal değişkenlerimiz ve özellikleri bunlar "
   ]
  },
  {
   "cell_type": "code",
   "execution_count": 173,
   "id": "5e19b32d-3d5a-4420-8287-b69aedc97c10",
   "metadata": {
    "tags": []
   },
   "outputs": [
    {
     "data": {
      "text/plain": [
       "True"
      ]
     },
     "execution_count": 173,
     "metadata": {},
     "output_type": "execute_result"
    }
   ],
   "source": [
    "peng.isnull().values.any()  #eksik veri var mı"
   ]
  },
  {
   "cell_type": "markdown",
   "id": "ac060968-c84b-4d70-8258-1efd47f7ba9c",
   "metadata": {},
   "source": [
    "Eksik değerimiz var "
   ]
  },
  {
   "cell_type": "code",
   "execution_count": 174,
   "id": "b80e5d6b-839e-4f16-8a2e-4dd5db1d7bb9",
   "metadata": {
    "tags": []
   },
   "outputs": [
    {
     "data": {
      "text/plain": [
       "species               0\n",
       "island                0\n",
       "culmen_length_mm      2\n",
       "culmen_depth_mm       2\n",
       "flipper_length_mm     2\n",
       "body_mass_g           2\n",
       "sex                  11\n",
       "dtype: int64"
      ]
     },
     "execution_count": 174,
     "metadata": {},
     "output_type": "execute_result"
    }
   ],
   "source": [
    "peng.isnull().sum()  #toplam eksik veri sayıları"
   ]
  },
  {
   "cell_type": "markdown",
   "id": "f88e66a2-f69c-40d4-8a10-49c97801a3f3",
   "metadata": {},
   "source": [
    "gaga uzunluğu, gaga derinliği, yüzgeç uzunluğu, vücut ağırlığı değişkenlerinde 2 şer tane;\n",
    "cinsiyet değişkeninde ise 10 tane eksik veri var "
   ]
  },
  {
   "cell_type": "code",
   "execution_count": 175,
   "id": "015d5092-7eab-49bb-9165-8691a02ae498",
   "metadata": {
    "tags": []
   },
   "outputs": [
    {
     "data": {
      "text/plain": [
       "Index(['Biscoe', 'Dream', 'Torgersen'], dtype='object', name='island')"
      ]
     },
     "execution_count": 175,
     "metadata": {},
     "output_type": "execute_result"
    }
   ],
   "source": [
    "peng.island.value_counts().index   #ada kategorik değeri"
   ]
  },
  {
   "cell_type": "markdown",
   "id": "b9a31271-935a-420e-8ae0-86b88d98ad63",
   "metadata": {},
   "source": [
    "kategorik değişkenimiz island değişkeni\n",
    "penguenlerin yaşadığı 3 farklı adayı belirtiyor"
   ]
  },
  {
   "cell_type": "code",
   "execution_count": 176,
   "id": "e5a779d5-3f95-4e21-b8d3-eeaf808a6831",
   "metadata": {},
   "outputs": [
    {
     "data": {
      "text/plain": [
       "island\n",
       "Biscoe       168\n",
       "Dream        124\n",
       "Torgersen     52\n",
       "Name: count, dtype: int64"
      ]
     },
     "execution_count": 176,
     "metadata": {},
     "output_type": "execute_result"
    }
   ],
   "source": [
    "peng[\"island\"].value_counts()   #adalardaki penguen sayıları"
   ]
  },
  {
   "cell_type": "markdown",
   "id": "f38972ff-daf9-4011-983e-02b287a6b7e4",
   "metadata": {},
   "source": [
    "168 penguen Biscoe, 124 penguen Dream, 52 penguen ise Torgersen adalarına ait"
   ]
  },
  {
   "cell_type": "code",
   "execution_count": 177,
   "id": "5e5d2be3-e726-4f19-a61c-62660fcf77e2",
   "metadata": {
    "tags": []
   },
   "outputs": [
    {
     "data": {
      "text/plain": [
       "Index(['Adelie', 'Gentoo', 'Chinstrap'], dtype='object', name='species')"
      ]
     },
     "execution_count": 177,
     "metadata": {},
     "output_type": "execute_result"
    }
   ],
   "source": [
    "peng.species.value_counts().index   #kategorik tür değişkeni "
   ]
  },
  {
   "cell_type": "markdown",
   "id": "c8079830-d64a-476e-b6c1-ddcfbfc4e9d2",
   "metadata": {},
   "source": [
    "kategorik değişkenimiz species değişkeni\n",
    "penguenlerin 3 farklı türde olduklarını gösteriyor"
   ]
  },
  {
   "cell_type": "code",
   "execution_count": 178,
   "id": "60023d79-5fc5-48e1-8b00-b465d74d62ec",
   "metadata": {
    "tags": []
   },
   "outputs": [
    {
     "data": {
      "text/plain": [
       "species\n",
       "Adelie       152\n",
       "Gentoo       124\n",
       "Chinstrap     68\n",
       "Name: count, dtype: int64"
      ]
     },
     "execution_count": 178,
     "metadata": {},
     "output_type": "execute_result"
    }
   ],
   "source": [
    "peng[\"species\"].value_counts() #türlerine göre penguen sayıları"
   ]
  },
  {
   "cell_type": "markdown",
   "id": "8138b363-61c8-47ef-95cc-8c096ab93596",
   "metadata": {},
   "source": [
    "152 adet Adelie, 124 adet Gentoo, 68 adet ise Chinstrap türünde penguen mevcut "
   ]
  },
  {
   "cell_type": "code",
   "execution_count": 179,
   "id": "db14eb74-3d2d-409d-932d-77ad8ef0767e",
   "metadata": {
    "tags": []
   },
   "outputs": [],
   "source": [
    "#!pip install --upgrade matplotlib"
   ]
  },
  {
   "cell_type": "code",
   "execution_count": 180,
   "id": "ba10af24-97b2-4cec-90df-f3c564e686b3",
   "metadata": {},
   "outputs": [
    {
     "name": "stderr",
     "output_type": "stream",
     "text": [
      "C:\\Users\\demir\\anaconda3\\Lib\\site-packages\\seaborn\\_oldcore.py:1498: FutureWarning: is_categorical_dtype is deprecated and will be removed in a future version. Use isinstance(dtype, CategoricalDtype) instead\n",
      "  if pd.api.types.is_categorical_dtype(vector):\n",
      "C:\\Users\\demir\\anaconda3\\Lib\\site-packages\\seaborn\\_oldcore.py:1498: FutureWarning: is_categorical_dtype is deprecated and will be removed in a future version. Use isinstance(dtype, CategoricalDtype) instead\n",
      "  if pd.api.types.is_categorical_dtype(vector):\n"
     ]
    },
    {
     "data": {
      "image/png": "[encoded data removed]",
      "text/plain": [
       "<Figure size 604.75x500 with 1 Axes>"
      ]
     },
     "metadata": {},
     "output_type": "display_data"
    }
   ],
   "source": [
    "sb.lmplot(x = \"body_mass_g\", y = \"flipper_length_mm\", hue = \"sex\", data = peng);"
   ]
  },
  {
   "cell_type": "markdown",
   "id": "4b5608b4-8fe4-4090-a1d0-e271d9cb54ca",
   "metadata": {},
   "source": [
    "Bu grafikte x ekseni penguenlerin gram cinsinden kilosunu, y ekseni ise yüzgeç uzunluğunu gösteriyor.\n",
    "O halde şu yorum yapılabilir: penguenlerin kilosu arttıkça yüzgeç uzunlukları da artar."
   ]
  },
  {
   "cell_type": "code",
   "execution_count": 181,
   "id": "9f55ff7d-670d-4317-ba80-b598c268ee24",
   "metadata": {},
   "outputs": [
    {
     "name": "stderr",
     "output_type": "stream",
     "text": [
      "C:\\Users\\demir\\anaconda3\\Lib\\site-packages\\seaborn\\_oldcore.py:1498: FutureWarning: is_categorical_dtype is deprecated and will be removed in a future version. Use isinstance(dtype, CategoricalDtype) instead\n",
      "  if pd.api.types.is_categorical_dtype(vector):\n",
      "C:\\Users\\demir\\anaconda3\\Lib\\site-packages\\seaborn\\_oldcore.py:1498: FutureWarning: is_categorical_dtype is deprecated and will be removed in a future version. Use isinstance(dtype, CategoricalDtype) instead\n",
      "  if pd.api.types.is_categorical_dtype(vector):\n"
     ]
    },
    {
     "data": {
      "image/png": "[encoded data removed]",
      "text/plain": [
       "<Figure size 604.75x500 with 1 Axes>"
      ]
     },
     "metadata": {},
     "output_type": "display_data"
    }
   ],
   "source": [
    "sb.lmplot(x = \"culmen_length_mm\", y = \"culmen_depth_mm\", hue = \"sex\", data = peng);"
   ]
  },
  {
   "cell_type": "markdown",
   "id": "a8716fcd-0973-46ad-bd9f-90633a9034d5",
   "metadata": {},
   "source": [
    "Bu grafikte x ekseni gaga uzunluğu, y ekseni gaga derinliğidir.\n",
    "O halde penguenlerin gaga boyları kısaldıkça derinliklerinin arttığını söyleyebiliriz."
   ]
  },
  {
   "cell_type": "code",
   "execution_count": 182,
   "id": "22ecfbd5-bbd2-4700-8222-37a278dc3a5a",
   "metadata": {
    "tags": []
   },
   "outputs": [
    {
     "name": "stderr",
     "output_type": "stream",
     "text": [
      "C:\\Users\\demir\\anaconda3\\Lib\\site-packages\\seaborn\\_oldcore.py:1498: FutureWarning: is_categorical_dtype is deprecated and will be removed in a future version. Use isinstance(dtype, CategoricalDtype) instead\n",
      "  if pd.api.types.is_categorical_dtype(vector):\n",
      "C:\\Users\\demir\\anaconda3\\Lib\\site-packages\\seaborn\\_oldcore.py:1498: FutureWarning: is_categorical_dtype is deprecated and will be removed in a future version. Use isinstance(dtype, CategoricalDtype) instead\n",
      "  if pd.api.types.is_categorical_dtype(vector):\n"
     ]
    },
    {
     "data": {
      "image/png": "[encoded data removed]",
      "text/plain": [
       "<Figure size 604.75x500 with 1 Axes>"
      ]
     },
     "metadata": {},
     "output_type": "display_data"
    }
   ],
   "source": [
    "sb.lmplot(x = \"body_mass_g\", y = \"culmen_length_mm\", hue = \"sex\", data = peng);"
   ]
  },
  {
   "cell_type": "markdown",
   "id": "3b1147d1-d83b-4030-ad3c-05a3bb1523ca",
   "metadata": {},
   "source": [
    "vücut ağırlığı arttıkça gaga boyu da artar."
   ]
  },
  {
   "cell_type": "code",
   "execution_count": 183,
   "id": "7b32e301-cd61-4aaa-b1d7-6d6e1f3c31f5",
   "metadata": {
    "tags": []
   },
   "outputs": [
    {
     "name": "stderr",
     "output_type": "stream",
     "text": [
      "C:\\Users\\demir\\anaconda3\\Lib\\site-packages\\seaborn\\_oldcore.py:1498: FutureWarning: is_categorical_dtype is deprecated and will be removed in a future version. Use isinstance(dtype, CategoricalDtype) instead\n",
      "  if pd.api.types.is_categorical_dtype(vector):\n",
      "C:\\Users\\demir\\anaconda3\\Lib\\site-packages\\seaborn\\_oldcore.py:1498: FutureWarning: is_categorical_dtype is deprecated and will be removed in a future version. Use isinstance(dtype, CategoricalDtype) instead\n",
      "  if pd.api.types.is_categorical_dtype(vector):\n"
     ]
    },
    {
     "data": {
      "image/png": "[encoded data removed]",
      "text/plain": [
       "<Figure size 604.75x500 with 1 Axes>"
      ]
     },
     "metadata": {},
     "output_type": "display_data"
    }
   ],
   "source": [
    "sb.lmplot(x = \"body_mass_g\", y = \"culmen_depth_mm\", hue = \"sex\", data = peng);"
   ]
  },
  {
   "cell_type": "markdown",
   "id": "6c71b660-d4fc-4c0e-ad04-6f14f3728af0",
   "metadata": {},
   "source": [
    "Vücut ağırlığı arttıkça gaga derinliği azalır."
   ]
  },
  {
   "cell_type": "code",
   "execution_count": 184,
   "id": "52f8bf1f-77cd-40c6-82b1-afa79877780e",
   "metadata": {
    "tags": []
   },
   "outputs": [
    {
     "name": "stderr",
     "output_type": "stream",
     "text": [
      "C:\\Users\\demir\\anaconda3\\Lib\\site-packages\\seaborn\\_oldcore.py:1498: FutureWarning: is_categorical_dtype is deprecated and will be removed in a future version. Use isinstance(dtype, CategoricalDtype) instead\n",
      "  if pd.api.types.is_categorical_dtype(vector):\n",
      "C:\\Users\\demir\\anaconda3\\Lib\\site-packages\\seaborn\\_oldcore.py:1498: FutureWarning: is_categorical_dtype is deprecated and will be removed in a future version. Use isinstance(dtype, CategoricalDtype) instead\n",
      "  if pd.api.types.is_categorical_dtype(vector):\n",
      "C:\\Users\\demir\\anaconda3\\Lib\\site-packages\\seaborn\\_oldcore.py:1498: FutureWarning: is_categorical_dtype is deprecated and will be removed in a future version. Use isinstance(dtype, CategoricalDtype) instead\n",
      "  if pd.api.types.is_categorical_dtype(vector):\n",
      "C:\\Users\\demir\\anaconda3\\Lib\\site-packages\\seaborn\\_oldcore.py:1119: FutureWarning: use_inf_as_na option is deprecated and will be removed in a future version. Convert inf values to NaN before operating instead.\n",
      "  with pd.option_context('mode.use_inf_as_na', True):\n",
      "C:\\Users\\demir\\anaconda3\\Lib\\site-packages\\seaborn\\_oldcore.py:1498: FutureWarning: is_categorical_dtype is deprecated and will be removed in a future version. Use isinstance(dtype, CategoricalDtype) instead\n",
      "  if pd.api.types.is_categorical_dtype(vector):\n",
      "C:\\Users\\demir\\anaconda3\\Lib\\site-packages\\seaborn\\_oldcore.py:1119: FutureWarning: use_inf_as_na option is deprecated and will be removed in a future version. Convert inf values to NaN before operating instead.\n",
      "  with pd.option_context('mode.use_inf_as_na', True):\n"
     ]
    },
    {
     "data": {
      "image/png": "[encoded data removed]",
      "text/plain": [
       "<Figure size 304.75x200 with 1 Axes>"
      ]
     },
     "metadata": {},
     "output_type": "display_data"
    }
   ],
   "source": [
    "(sb\n",
    " .FacetGrid(peng,\n",
    "              hue = \"sex\",\n",
    "              height = 2,\n",
    "              xlim = (0, 8000))\n",
    " .map(sb.kdeplot, \"body_mass_g\", fill= True) \n",
    " .add_legend() \n",
    ");"
   ]
  },
  {
   "cell_type": "code",
   "execution_count": 185,
   "id": "0f962a04-3326-4557-8a7a-b14e8b9305ad",
   "metadata": {},
   "outputs": [
    {
     "ename": "SyntaxError",
     "evalue": "invalid syntax (1167643377.py, line 1)",
     "output_type": "error",
     "traceback": [
      "\u001b[1;36m  Cell \u001b[1;32mIn[185], line 1\u001b[1;36m\u001b[0m\n\u001b[1;33m    Cinsiyet değişkenine göre vücut ağırlığı yoğunluğu\u001b[0m\n\u001b[1;37m             ^\u001b[0m\n\u001b[1;31mSyntaxError\u001b[0m\u001b[1;31m:\u001b[0m invalid syntax\n"
     ]
    }
   ],
   "source": [
    "Cinsiyet değişkenine göre vücut ağırlığı yoğunluğu"
   ]
  },
  {
   "cell_type": "code",
   "execution_count": 186,
   "id": "cefbe29f-4b29-4b77-a52d-c0f9554fe900",
   "metadata": {
    "tags": []
   },
   "outputs": [
    {
     "name": "stderr",
     "output_type": "stream",
     "text": [
      "C:\\Users\\demir\\anaconda3\\Lib\\site-packages\\seaborn\\_oldcore.py:1498: FutureWarning: is_categorical_dtype is deprecated and will be removed in a future version. Use isinstance(dtype, CategoricalDtype) instead\n",
      "  if pd.api.types.is_categorical_dtype(vector):\n",
      "C:\\Users\\demir\\anaconda3\\Lib\\site-packages\\seaborn\\_oldcore.py:1498: FutureWarning: is_categorical_dtype is deprecated and will be removed in a future version. Use isinstance(dtype, CategoricalDtype) instead\n",
      "  if pd.api.types.is_categorical_dtype(vector):\n",
      "C:\\Users\\demir\\anaconda3\\Lib\\site-packages\\seaborn\\_oldcore.py:1498: FutureWarning: is_categorical_dtype is deprecated and will be removed in a future version. Use isinstance(dtype, CategoricalDtype) instead\n",
      "  if pd.api.types.is_categorical_dtype(vector):\n",
      "C:\\Users\\demir\\anaconda3\\Lib\\site-packages\\seaborn\\_oldcore.py:1498: FutureWarning: is_categorical_dtype is deprecated and will be removed in a future version. Use isinstance(dtype, CategoricalDtype) instead\n",
      "  if pd.api.types.is_categorical_dtype(vector):\n"
     ]
    },
    {
     "data": {
      "image/png": "[encoded data removed]",
      "text/plain": [
       "<Figure size 640x480 with 1 Axes>"
      ]
     },
     "metadata": {},
     "output_type": "display_data"
    }
   ],
   "source": [
    "sb.barplot(x = \"island\", y = \"body_mass_g\", hue = \"sex\", data = peng);"
   ]
  },
  {
   "cell_type": "markdown",
   "id": "820f28f5-2e1a-47e1-ba52-ef9325e64c4b",
   "metadata": {},
   "source": [
    "Bu grafikte 3 adada yaşayan penguenlerin ayrı ayrı, cinsiyet değişkenine de bakılarak vücut ağırlıkları değerlendirilmiştir.\n",
    "Bu doğrultuda erkek penguenlerin dişi penguenlerden ağır olduklarını, \n",
    "ayrıca Biscoe adasındaki penguenlerin diğer adalardakilerden ağır oldukları yorumunu yapabiliriz.\n",
    "Buna ek olarak da Torgersen adasındaki erkek penguenler Dream adasındakilerden ağırken,\n",
    "Dream adasındaki dişi penguenler Torgersen adasındakilerden ağırlar."
   ]
  },
  {
   "cell_type": "markdown",
   "id": "524ad2bb-ffb4-42d6-a8cc-b8a46974073d",
   "metadata": {},
   "source": [
    "<<<<<<<<<<<<<<<<<<<<<   VERİ ÖN İŞLEME   >>>>>>>>>>>>>>>>>>>>>>>>>>>>"
   ]
  },
  {
   "cell_type": "code",
   "execution_count": 193,
   "id": "761a56f5-e8f0-4c48-9649-07a1f51c6924",
   "metadata": {},
   "outputs": [],
   "source": [
    "peng_orj = pd.read_csv(\"penguins_size.csv\")"
   ]
  },
  {
   "cell_type": "code",
   "execution_count": 194,
   "id": "07ef8554-96c8-432e-8db3-8b4435a77cb7",
   "metadata": {},
   "outputs": [
    {
     "data": {
      "text/html": [
       "<div>\n",
       "<style scoped>\n",
       "    .dataframe tbody tr th:only-of-type {\n",
       "        vertical-align: middle;\n",
       "    }\n",
       "\n",
       "    .dataframe tbody tr th {\n",
       "        vertical-align: top;\n",
       "    }\n",
       "\n",
       "    .dataframe thead th {\n",
       "        text-align: right;\n",
       "    }\n",
       "</style>\n",
       "<table border=\"1\" class=\"dataframe\">\n",
       "  <thead>\n",
       "    <tr style=\"text-align: right;\">\n",
       "      <th></th>\n",
       "      <th>culmen_length_mm</th>\n",
       "      <th>culmen_depth_mm</th>\n",
       "      <th>flipper_length_mm</th>\n",
       "      <th>body_mass_g</th>\n",
       "    </tr>\n",
       "  </thead>\n",
       "  <tbody>\n",
       "    <tr>\n",
       "      <th>0</th>\n",
       "      <td>37.8</td>\n",
       "      <td>18.7</td>\n",
       "      <td>181.0</td>\n",
       "      <td>3750.0</td>\n",
       "    </tr>\n",
       "    <tr>\n",
       "      <th>1</th>\n",
       "      <td>35.5</td>\n",
       "      <td>17.4</td>\n",
       "      <td>186.0</td>\n",
       "      <td>3800.0</td>\n",
       "    </tr>\n",
       "    <tr>\n",
       "      <th>2</th>\n",
       "      <td>40.3</td>\n",
       "      <td>18.0</td>\n",
       "      <td>195.0</td>\n",
       "      <td>3250.0</td>\n",
       "    </tr>\n",
       "    <tr>\n",
       "      <th>4</th>\n",
       "      <td>36.7</td>\n",
       "      <td>19.3</td>\n",
       "      <td>193.0</td>\n",
       "      <td>3450.0</td>\n",
       "    </tr>\n",
       "    <tr>\n",
       "      <th>5</th>\n",
       "      <td>39.3</td>\n",
       "      <td>20.6</td>\n",
       "      <td>190.0</td>\n",
       "      <td>3650.0</td>\n",
       "    </tr>\n",
       "  </tbody>\n",
       "</table>\n",
       "</div>"
      ],
      "text/plain": [
       "   culmen_length_mm  culmen_depth_mm  flipper_length_mm  body_mass_g\n",
       "0              37.8             18.7              181.0       3750.0\n",
       "1              35.5             17.4              186.0       3800.0\n",
       "2              40.3             18.0              195.0       3250.0\n",
       "4              36.7             19.3              193.0       3450.0\n",
       "5              39.3             20.6              190.0       3650.0"
      ]
     },
     "execution_count": 194,
     "metadata": {},
     "output_type": "execute_result"
    }
   ],
   "source": [
    "peng2 = peng_orj.select_dtypes(include = ['float64']) #sadece sayısal değişkenlere erişiyoruz\n",
    "peng = peng2.dropna() #eksik gözlemleri görmezden gelerek aykırı değerleri tespit edelim\n",
    "peng.head()"
   ]
  },
  {
   "cell_type": "code",
   "execution_count": 195,
   "id": "d76ca083-9cf5-4882-b5e0-88e3349982a6",
   "metadata": {},
   "outputs": [
    {
     "data": {
      "text/html": [
       "<div>\n",
       "<style scoped>\n",
       "    .dataframe tbody tr th:only-of-type {\n",
       "        vertical-align: middle;\n",
       "    }\n",
       "\n",
       "    .dataframe tbody tr th {\n",
       "        vertical-align: top;\n",
       "    }\n",
       "\n",
       "    .dataframe thead th {\n",
       "        text-align: right;\n",
       "    }\n",
       "</style>\n",
       "<table border=\"1\" class=\"dataframe\">\n",
       "  <thead>\n",
       "    <tr style=\"text-align: right;\">\n",
       "      <th></th>\n",
       "      <th>culmen_length_mm</th>\n",
       "      <th>culmen_depth_mm</th>\n",
       "      <th>flipper_length_mm</th>\n",
       "      <th>body_mass_g</th>\n",
       "    </tr>\n",
       "  </thead>\n",
       "  <tbody>\n",
       "    <tr>\n",
       "      <th>0</th>\n",
       "      <td>37.8</td>\n",
       "      <td>18.7</td>\n",
       "      <td>181.0</td>\n",
       "      <td>3750.0</td>\n",
       "    </tr>\n",
       "    <tr>\n",
       "      <th>1</th>\n",
       "      <td>35.5</td>\n",
       "      <td>17.4</td>\n",
       "      <td>186.0</td>\n",
       "      <td>3800.0</td>\n",
       "    </tr>\n",
       "    <tr>\n",
       "      <th>2</th>\n",
       "      <td>40.3</td>\n",
       "      <td>18.0</td>\n",
       "      <td>195.0</td>\n",
       "      <td>3250.0</td>\n",
       "    </tr>\n",
       "    <tr>\n",
       "      <th>3</th>\n",
       "      <td>NaN</td>\n",
       "      <td>NaN</td>\n",
       "      <td>NaN</td>\n",
       "      <td>NaN</td>\n",
       "    </tr>\n",
       "    <tr>\n",
       "      <th>4</th>\n",
       "      <td>36.7</td>\n",
       "      <td>19.3</td>\n",
       "      <td>193.0</td>\n",
       "      <td>3450.0</td>\n",
       "    </tr>\n",
       "    <tr>\n",
       "      <th>...</th>\n",
       "      <td>...</td>\n",
       "      <td>...</td>\n",
       "      <td>...</td>\n",
       "      <td>...</td>\n",
       "    </tr>\n",
       "    <tr>\n",
       "      <th>339</th>\n",
       "      <td>NaN</td>\n",
       "      <td>NaN</td>\n",
       "      <td>NaN</td>\n",
       "      <td>NaN</td>\n",
       "    </tr>\n",
       "    <tr>\n",
       "      <th>340</th>\n",
       "      <td>46.8</td>\n",
       "      <td>14.3</td>\n",
       "      <td>215.0</td>\n",
       "      <td>4850.0</td>\n",
       "    </tr>\n",
       "    <tr>\n",
       "      <th>341</th>\n",
       "      <td>50.4</td>\n",
       "      <td>15.7</td>\n",
       "      <td>222.0</td>\n",
       "      <td>5750.0</td>\n",
       "    </tr>\n",
       "    <tr>\n",
       "      <th>342</th>\n",
       "      <td>45.2</td>\n",
       "      <td>14.8</td>\n",
       "      <td>212.0</td>\n",
       "      <td>5200.0</td>\n",
       "    </tr>\n",
       "    <tr>\n",
       "      <th>343</th>\n",
       "      <td>49.9</td>\n",
       "      <td>16.1</td>\n",
       "      <td>213.0</td>\n",
       "      <td>5400.0</td>\n",
       "    </tr>\n",
       "  </tbody>\n",
       "</table>\n",
       "<p>344 rows × 4 columns</p>\n",
       "</div>"
      ],
      "text/plain": [
       "     culmen_length_mm  culmen_depth_mm  flipper_length_mm  body_mass_g\n",
       "0                37.8             18.7              181.0       3750.0\n",
       "1                35.5             17.4              186.0       3800.0\n",
       "2                40.3             18.0              195.0       3250.0\n",
       "3                 NaN              NaN                NaN          NaN\n",
       "4                36.7             19.3              193.0       3450.0\n",
       "..                ...              ...                ...          ...\n",
       "339               NaN              NaN                NaN          NaN\n",
       "340              46.8             14.3              215.0       4850.0\n",
       "341              50.4             15.7              222.0       5750.0\n",
       "342              45.2             14.8              212.0       5200.0\n",
       "343              49.9             16.1              213.0       5400.0\n",
       "\n",
       "[344 rows x 4 columns]"
      ]
     },
     "execution_count": 195,
     "metadata": {},
     "output_type": "execute_result"
    }
   ],
   "source": [
    "peng2"
   ]
  },
  {
   "cell_type": "markdown",
   "id": "5e3ed665-7367-41f2-9263-9a6e293f8769",
   "metadata": {},
   "source": [
    "CULMEN LENGTH AYKIRI VERİ TESPİTİ"
   ]
  },
  {
   "cell_type": "code",
   "execution_count": 196,
   "id": "aef7ae7e-8431-49fd-993f-2a4d8493df3c",
   "metadata": {},
   "outputs": [],
   "source": [
    "peng_culmenLength = peng[\"culmen_length_mm\"]   #gaga uzunluğu sütununu peng_culmenLength değişkenine atadım"
   ]
  },
  {
   "cell_type": "code",
   "execution_count": 197,
   "id": "725ef887-44de-48cc-8368-5670ee5ff750",
   "metadata": {},
   "outputs": [
    {
     "data": {
      "text/plain": [
       "0    37.8\n",
       "1    35.5\n",
       "2    40.3\n",
       "4    36.7\n",
       "5    39.3\n",
       "Name: culmen_length_mm, dtype: float64"
      ]
     },
     "execution_count": 197,
     "metadata": {},
     "output_type": "execute_result"
    }
   ],
   "source": [
    "peng_culmenLength.head()"
   ]
  },
  {
   "cell_type": "code",
   "execution_count": 198,
   "id": "9826fe95-5ee2-42d9-a170-131b2460850b",
   "metadata": {},
   "outputs": [
    {
     "name": "stderr",
     "output_type": "stream",
     "text": [
      "C:\\Users\\demir\\anaconda3\\Lib\\site-packages\\seaborn\\_oldcore.py:1498: FutureWarning: is_categorical_dtype is deprecated and will be removed in a future version. Use isinstance(dtype, CategoricalDtype) instead\n",
      "  if pd.api.types.is_categorical_dtype(vector):\n"
     ]
    },
    {
     "data": {
      "image/png": "[encoded data removed]",
      "text/plain": [
       "<Figure size 640x480 with 1 Axes>"
      ]
     },
     "metadata": {},
     "output_type": "display_data"
    }
   ],
   "source": [
    "sb.boxplot(x = peng_culmenLength);"
   ]
  },
  {
   "cell_type": "code",
   "execution_count": 199,
   "id": "294c4766-c1c2-434c-874d-ba4be71705d1",
   "metadata": {},
   "outputs": [],
   "source": [
    "Q1 = peng_culmenLength.quantile(0.25) #Veri setinin %25'lik indeksine karşılık gelen değer\n",
    "Q3 = peng_culmenLength.quantile(0.75) #Veri setinin %75'lik indeksine karşılık gelen değer\n",
    "IQR = Q3-Q1 #Çeyrekler açıklığı"
   ]
  },
  {
   "cell_type": "code",
   "execution_count": 200,
   "id": "caf8490c-19b7-4f29-9d0b-e14f7dad155a",
   "metadata": {},
   "outputs": [
    {
     "data": {
      "text/plain": [
       "39.349999999999994"
      ]
     },
     "execution_count": 200,
     "metadata": {},
     "output_type": "execute_result"
    }
   ],
   "source": [
    "Q1"
   ]
  },
  {
   "cell_type": "code",
   "execution_count": 201,
   "id": "348e4f49-57e4-4e39-9032-fc26c6ab450b",
   "metadata": {},
   "outputs": [
    {
     "data": {
      "text/plain": [
       "48.675000000000004"
      ]
     },
     "execution_count": 201,
     "metadata": {},
     "output_type": "execute_result"
    }
   ],
   "source": [
    "Q3"
   ]
  },
  {
   "cell_type": "code",
   "execution_count": 202,
   "id": "96d301b9-948b-478c-a519-e154233ebd81",
   "metadata": {},
   "outputs": [
    {
     "data": {
      "text/plain": [
       "9.32500000000001"
      ]
     },
     "execution_count": 202,
     "metadata": {},
     "output_type": "execute_result"
    }
   ],
   "source": [
    "IQR"
   ]
  },
  {
   "cell_type": "code",
   "execution_count": 203,
   "id": "e74f64d7-996d-47aa-9b24-991ac3475e43",
   "metadata": {},
   "outputs": [],
   "source": [
    "alt_sinir = Q1- 1.5*IQR\n",
    "ust_sinir = Q3 + 1.5*IQR"
   ]
  },
  {
   "cell_type": "code",
   "execution_count": 204,
   "id": "073c316d-d300-4c94-bdf7-56fd39bde4ab",
   "metadata": {},
   "outputs": [
    {
     "data": {
      "text/plain": [
       "25.36249999999998"
      ]
     },
     "execution_count": 204,
     "metadata": {},
     "output_type": "execute_result"
    }
   ],
   "source": [
    "alt_sinir"
   ]
  },
  {
   "cell_type": "code",
   "execution_count": 205,
   "id": "65a8d7a7-cdcf-4fd1-b722-5faa041563e9",
   "metadata": {},
   "outputs": [
    {
     "data": {
      "text/plain": [
       "62.66250000000002"
      ]
     },
     "execution_count": 205,
     "metadata": {},
     "output_type": "execute_result"
    }
   ],
   "source": [
    "ust_sinir"
   ]
  },
  {
   "cell_type": "code",
   "execution_count": 206,
   "id": "d9a74247-2bba-4f0d-ab7e-7fe5a489e557",
   "metadata": {},
   "outputs": [
    {
     "data": {
      "text/plain": [
       "0      False\n",
       "1      False\n",
       "2      False\n",
       "4      False\n",
       "5      False\n",
       "       ...  \n",
       "338    False\n",
       "340    False\n",
       "341    False\n",
       "342    False\n",
       "343    False\n",
       "Name: culmen_length_mm, Length: 342, dtype: bool"
      ]
     },
     "execution_count": 206,
     "metadata": {},
     "output_type": "execute_result"
    }
   ],
   "source": [
    "(peng_culmenLength < alt_sinir) | (peng_culmenLength > ust_sinir)"
   ]
  },
  {
   "cell_type": "code",
   "execution_count": 207,
   "id": "356329f3-b82c-499d-b902-323c24bacf07",
   "metadata": {},
   "outputs": [],
   "source": [
    "aykiri = (peng_culmenLength < alt_sinir) | (peng_culmenLength > ust_sinir)  #aykırı değerleri aykırı değşikenine aldım"
   ]
  },
  {
   "cell_type": "code",
   "execution_count": 208,
   "id": "783de009-eb6b-42ef-94cf-7555641ef343",
   "metadata": {},
   "outputs": [
    {
     "data": {
      "text/plain": [
       "0    False\n",
       "1    False\n",
       "2    False\n",
       "4    False\n",
       "5    False\n",
       "Name: culmen_length_mm, dtype: bool"
      ]
     },
     "execution_count": 208,
     "metadata": {},
     "output_type": "execute_result"
    }
   ],
   "source": [
    "aykiri.head()"
   ]
  },
  {
   "cell_type": "code",
   "execution_count": 209,
   "id": "19c6248d-5407-4060-bebe-ee46c7a96b62",
   "metadata": {},
   "outputs": [
    {
     "data": {
      "text/plain": [
       "11    20.0\n",
       "18    63.2\n",
       "24    64.8\n",
       "48    24.8\n",
       "74    21.0\n",
       "Name: culmen_length_mm, dtype: float64"
      ]
     },
     "execution_count": 209,
     "metadata": {},
     "output_type": "execute_result"
    }
   ],
   "source": [
    "peng_culmenLength[aykiri]"
   ]
  },
  {
   "cell_type": "code",
   "execution_count": 210,
   "id": "1181acfb-35b0-4eb0-b8d2-e8d1c3e55bd7",
   "metadata": {},
   "outputs": [
    {
     "data": {
      "text/plain": [
       "Index([11, 18, 24, 48, 74], dtype='int64')"
      ]
     },
     "execution_count": 210,
     "metadata": {},
     "output_type": "execute_result"
    }
   ],
   "source": [
    "peng_culmenLength[aykiri].index"
   ]
  },
  {
   "cell_type": "code",
   "execution_count": 211,
   "id": "6bbee45b-d5ff-4db6-8e1a-06c02b963cd5",
   "metadata": {},
   "outputs": [],
   "source": [
    "alt_aykiri=(peng_culmenLength < alt_sinir)"
   ]
  },
  {
   "cell_type": "code",
   "execution_count": 212,
   "id": "9d6c6c73-28a0-4055-af55-2aad4df6cc7b",
   "metadata": {},
   "outputs": [
    {
     "data": {
      "text/plain": [
       "0      False\n",
       "1      False\n",
       "2      False\n",
       "4      False\n",
       "5      False\n",
       "       ...  \n",
       "338    False\n",
       "340    False\n",
       "341    False\n",
       "342    False\n",
       "343    False\n",
       "Name: culmen_length_mm, Length: 342, dtype: bool"
      ]
     },
     "execution_count": 212,
     "metadata": {},
     "output_type": "execute_result"
    }
   ],
   "source": [
    "alt_aykiri"
   ]
  },
  {
   "cell_type": "code",
   "execution_count": 213,
   "id": "d4129752-658e-4e17-93ba-d6567c19c71f",
   "metadata": {},
   "outputs": [],
   "source": [
    "ust_aykiri=(peng_culmenLength > ust_sinir)"
   ]
  },
  {
   "cell_type": "code",
   "execution_count": 214,
   "id": "405adbe6-bc6d-4514-996a-80690f570f2d",
   "metadata": {},
   "outputs": [
    {
     "data": {
      "text/plain": [
       "0      False\n",
       "1      False\n",
       "2      False\n",
       "4      False\n",
       "5      False\n",
       "       ...  \n",
       "338    False\n",
       "340    False\n",
       "341    False\n",
       "342    False\n",
       "343    False\n",
       "Name: culmen_length_mm, Length: 342, dtype: bool"
      ]
     },
     "execution_count": 214,
     "metadata": {},
     "output_type": "execute_result"
    }
   ],
   "source": [
    "ust_aykiri"
   ]
  },
  {
   "cell_type": "markdown",
   "id": "daf178af-22b4-49e3-ade5-66f02e8ae9f4",
   "metadata": {},
   "source": [
    "AYKIRI DEĞERLERİ ORTALAMA İLE DOLDURMA"
   ]
  },
  {
   "cell_type": "code",
   "execution_count": 215,
   "id": "aabafaca-fae2-42a4-8e01-1925685b3728",
   "metadata": {},
   "outputs": [
    {
     "data": {
      "text/plain": [
       "11    20.0\n",
       "18    63.2\n",
       "24    64.8\n",
       "48    24.8\n",
       "74    21.0\n",
       "Name: culmen_length_mm, dtype: float64"
      ]
     },
     "execution_count": 215,
     "metadata": {},
     "output_type": "execute_result"
    }
   ],
   "source": [
    "peng_culmenLength[aykiri]"
   ]
  },
  {
   "cell_type": "code",
   "execution_count": 216,
   "id": "901152ba-b361-4a01-be4e-70b4b5164b47",
   "metadata": {},
   "outputs": [
    {
     "data": {
      "text/plain": [
       "43.999415204678364"
      ]
     },
     "execution_count": 216,
     "metadata": {},
     "output_type": "execute_result"
    }
   ],
   "source": [
    "peng_culmenLength.mean()"
   ]
  },
  {
   "cell_type": "code",
   "execution_count": 217,
   "id": "6dcab656-2cec-4da0-a9b4-9d96d4a70749",
   "metadata": {},
   "outputs": [
    {
     "name": "stderr",
     "output_type": "stream",
     "text": [
      "C:\\Users\\demir\\AppData\\Local\\Temp\\ipykernel_8072\\3003923657.py:1: SettingWithCopyWarning: \n",
      "A value is trying to be set on a copy of a slice from a DataFrame\n",
      "\n",
      "See the caveats in the documentation: https://pandas.pydata.org/pandas-docs/stable/user_guide/indexing.html#returning-a-view-versus-a-copy\n",
      "  peng_culmenLength[aykiri] = peng_culmenLength.mean()\n"
     ]
    }
   ],
   "source": [
    "peng_culmenLength[aykiri] = peng_culmenLength.mean()"
   ]
  },
  {
   "cell_type": "code",
   "execution_count": 218,
   "id": "9a160d97-7b5b-4a9e-8440-bb07069a92f3",
   "metadata": {},
   "outputs": [
    {
     "data": {
      "text/plain": [
       "11    43.999415\n",
       "18    43.999415\n",
       "24    43.999415\n",
       "48    43.999415\n",
       "74    43.999415\n",
       "Name: culmen_length_mm, dtype: float64"
      ]
     },
     "execution_count": 218,
     "metadata": {},
     "output_type": "execute_result"
    }
   ],
   "source": [
    "peng_culmenLength[aykiri]"
   ]
  },
  {
   "cell_type": "code",
   "execution_count": 219,
   "id": "2047c848-469f-4879-8b82-cf42b6222e68",
   "metadata": {},
   "outputs": [
    {
     "data": {
      "text/plain": [
       "0      37.8\n",
       "1      35.5\n",
       "2      40.3\n",
       "4      36.7\n",
       "5      39.3\n",
       "       ... \n",
       "338    47.2\n",
       "340    46.8\n",
       "341    50.4\n",
       "342    45.2\n",
       "343    49.9\n",
       "Name: culmen_length_mm, Length: 342, dtype: float64"
      ]
     },
     "execution_count": 219,
     "metadata": {},
     "output_type": "execute_result"
    }
   ],
   "source": [
    "peng_culmenLength"
   ]
  },
  {
   "cell_type": "code",
   "execution_count": 220,
   "id": "e4ad78d3-c8ce-4bef-9204-2f03dd0be819",
   "metadata": {},
   "outputs": [
    {
     "name": "stderr",
     "output_type": "stream",
     "text": [
      "C:\\Users\\demir\\AppData\\Local\\Temp\\ipykernel_8072\\2455464233.py:1: SettingWithCopyWarning: \n",
      "A value is trying to be set on a copy of a slice from a DataFrame.\n",
      "Try using .loc[row_indexer,col_indexer] = value instead\n",
      "\n",
      "See the caveats in the documentation: https://pandas.pydata.org/pandas-docs/stable/user_guide/indexing.html#returning-a-view-versus-a-copy\n",
      "  peng[\"culmen_length_mm\"] = peng_culmenLength\n"
     ]
    }
   ],
   "source": [
    "peng[\"culmen_length_mm\"] = peng_culmenLength"
   ]
  },
  {
   "cell_type": "markdown",
   "id": "3c789a8a-43e7-467f-8cdf-c8ebc3675cea",
   "metadata": {},
   "source": [
    "---------------------------------------------------------------------------------------"
   ]
  },
  {
   "cell_type": "markdown",
   "id": "8fe67f6a-f61e-451e-956f-243e89d56636",
   "metadata": {},
   "source": [
    "CULMEN DEPTH AYKIRI VERİ TESPİTİ"
   ]
  },
  {
   "cell_type": "code",
   "execution_count": 67,
   "id": "d472dac6-0085-4437-a84c-9d75a3348d47",
   "metadata": {},
   "outputs": [],
   "source": [
    "peng_culmenDepth = peng[\"culmen_depth_mm\"]"
   ]
  },
  {
   "cell_type": "code",
   "execution_count": 68,
   "id": "b5a2f68a-afd8-48ea-b25c-5e5990121025",
   "metadata": {},
   "outputs": [
    {
     "data": {
      "text/plain": [
       "0    18.7\n",
       "1    17.4\n",
       "2    18.0\n",
       "4    19.3\n",
       "5    20.6\n",
       "Name: culmen_depth_mm, dtype: float64"
      ]
     },
     "execution_count": 68,
     "metadata": {},
     "output_type": "execute_result"
    }
   ],
   "source": [
    "peng_culmenDepth.head()"
   ]
  },
  {
   "cell_type": "code",
   "execution_count": 69,
   "id": "c6369d8a-38d8-441a-ac6b-42b58a012df0",
   "metadata": {},
   "outputs": [
    {
     "name": "stderr",
     "output_type": "stream",
     "text": [
      "C:\\Users\\demir\\anaconda3\\Lib\\site-packages\\seaborn\\_oldcore.py:1498: FutureWarning: is_categorical_dtype is deprecated and will be removed in a future version. Use isinstance(dtype, CategoricalDtype) instead\n",
      "  if pd.api.types.is_categorical_dtype(vector):\n"
     ]
    },
    {
     "data": {
      "image/png": "[encoded data removed]",
      "text/plain": [
       "<Figure size 640x480 with 1 Axes>"
      ]
     },
     "metadata": {},
     "output_type": "display_data"
    }
   ],
   "source": [
    "sb.boxplot(x = peng_culmenDepth);"
   ]
  },
  {
   "cell_type": "code",
   "execution_count": 70,
   "id": "53ca1194-6682-4b95-8b77-759bf4f5d036",
   "metadata": {},
   "outputs": [],
   "source": [
    "Q1 = peng_culmenDepth.quantile(0.25) #Veri setinin %25'lik indeksine karşılık gelen değer\n",
    "Q3 = peng_culmenDepth.quantile(0.75) #Veri setinin %75'lik indeksine karşılık gelen değer\n",
    "IQR = Q3-Q1 #Çeyrekler açıklığı"
   ]
  },
  {
   "cell_type": "code",
   "execution_count": 71,
   "id": "0ac676a6-1a2f-46d3-bd62-da6655a85f1b",
   "metadata": {},
   "outputs": [
    {
     "data": {
      "text/plain": [
       "15.4"
      ]
     },
     "execution_count": 71,
     "metadata": {},
     "output_type": "execute_result"
    }
   ],
   "source": [
    "Q1"
   ]
  },
  {
   "cell_type": "code",
   "execution_count": 72,
   "id": "dade3547-d91f-46f9-9797-0b357af3d054",
   "metadata": {},
   "outputs": [
    {
     "data": {
      "text/plain": [
       "18.7"
      ]
     },
     "execution_count": 72,
     "metadata": {},
     "output_type": "execute_result"
    }
   ],
   "source": [
    "Q3"
   ]
  },
  {
   "cell_type": "code",
   "execution_count": 73,
   "id": "ad90c22f-ba8f-4560-bb2e-ee4d9d649c8c",
   "metadata": {},
   "outputs": [
    {
     "data": {
      "text/plain": [
       "3.299999999999999"
      ]
     },
     "execution_count": 73,
     "metadata": {},
     "output_type": "execute_result"
    }
   ],
   "source": [
    "IQR"
   ]
  },
  {
   "cell_type": "code",
   "execution_count": 74,
   "id": "5646395f-a1a6-4b2f-a9f9-f87fd8549a30",
   "metadata": {},
   "outputs": [],
   "source": [
    "alt_sinir = Q1- 1.5*IQR\n",
    "ust_sinir = Q3 + 1.5*IQR"
   ]
  },
  {
   "cell_type": "code",
   "execution_count": 75,
   "id": "7e15b792-094a-4b99-8879-0ad7dc509ca9",
   "metadata": {},
   "outputs": [
    {
     "data": {
      "text/plain": [
       "10.450000000000003"
      ]
     },
     "execution_count": 75,
     "metadata": {},
     "output_type": "execute_result"
    }
   ],
   "source": [
    "alt_sinir"
   ]
  },
  {
   "cell_type": "code",
   "execution_count": 76,
   "id": "4ea90d08-3a24-45c5-b024-9ef778239843",
   "metadata": {},
   "outputs": [
    {
     "data": {
      "text/plain": [
       "23.65"
      ]
     },
     "execution_count": 76,
     "metadata": {},
     "output_type": "execute_result"
    }
   ],
   "source": [
    "ust_sinir"
   ]
  },
  {
   "cell_type": "code",
   "execution_count": 77,
   "id": "02d4e830-fa2e-44ef-bd36-793a177cfcf6",
   "metadata": {},
   "outputs": [
    {
     "data": {
      "text/plain": [
       "0      False\n",
       "1      False\n",
       "2      False\n",
       "4      False\n",
       "5      False\n",
       "       ...  \n",
       "338    False\n",
       "340    False\n",
       "341    False\n",
       "342    False\n",
       "343    False\n",
       "Name: culmen_depth_mm, Length: 342, dtype: bool"
      ]
     },
     "execution_count": 77,
     "metadata": {},
     "output_type": "execute_result"
    }
   ],
   "source": [
    "(peng_culmenDepth < alt_sinir) | (peng_culmenDepth > ust_sinir)"
   ]
  },
  {
   "cell_type": "code",
   "execution_count": 78,
   "id": "3c966827-3e6c-4761-8eb1-d2dd0496e111",
   "metadata": {},
   "outputs": [],
   "source": [
    "aykiri = (peng_culmenDepth < alt_sinir) | (peng_culmenDepth > ust_sinir)"
   ]
  },
  {
   "cell_type": "code",
   "execution_count": 79,
   "id": "45a8f186-c550-4f99-9365-6cb0433925eb",
   "metadata": {},
   "outputs": [
    {
     "data": {
      "text/plain": [
       "0    False\n",
       "1    False\n",
       "2    False\n",
       "4    False\n",
       "5    False\n",
       "Name: culmen_depth_mm, dtype: bool"
      ]
     },
     "execution_count": 79,
     "metadata": {},
     "output_type": "execute_result"
    }
   ],
   "source": [
    "aykiri.head()"
   ]
  },
  {
   "cell_type": "code",
   "execution_count": 80,
   "id": "b4e830c6-f600-4cd0-a463-39e1aa9b189c",
   "metadata": {},
   "outputs": [
    {
     "data": {
      "text/plain": [
       "10     42.1\n",
       "62      9.8\n",
       "66     10.4\n",
       "76     24.2\n",
       "139    10.1\n",
       "140     9.5\n",
       "Name: culmen_depth_mm, dtype: float64"
      ]
     },
     "execution_count": 80,
     "metadata": {},
     "output_type": "execute_result"
    }
   ],
   "source": [
    "peng_culmenDepth[aykiri]"
   ]
  },
  {
   "cell_type": "code",
   "execution_count": 81,
   "id": "6de210c3-0c6d-4ab2-94bd-94dde922406c",
   "metadata": {},
   "outputs": [
    {
     "data": {
      "text/plain": [
       "Index([10, 62, 66, 76, 139, 140], dtype='int64')"
      ]
     },
     "execution_count": 81,
     "metadata": {},
     "output_type": "execute_result"
    }
   ],
   "source": [
    "peng_culmenDepth[aykiri].index"
   ]
  },
  {
   "cell_type": "code",
   "execution_count": 82,
   "id": "12452682-a37f-4125-8cfb-283f9e665bf0",
   "metadata": {},
   "outputs": [],
   "source": [
    "alt_aykiri=(peng_culmenDepth < alt_sinir)"
   ]
  },
  {
   "cell_type": "code",
   "execution_count": 83,
   "id": "bef4c776-2789-4240-aea5-9ce248431d11",
   "metadata": {},
   "outputs": [
    {
     "data": {
      "text/plain": [
       "0      False\n",
       "1      False\n",
       "2      False\n",
       "4      False\n",
       "5      False\n",
       "       ...  \n",
       "338    False\n",
       "340    False\n",
       "341    False\n",
       "342    False\n",
       "343    False\n",
       "Name: culmen_depth_mm, Length: 342, dtype: bool"
      ]
     },
     "execution_count": 83,
     "metadata": {},
     "output_type": "execute_result"
    }
   ],
   "source": [
    "alt_aykiri"
   ]
  },
  {
   "cell_type": "code",
   "execution_count": 84,
   "id": "99b5d69d-8b4a-4a6d-8e54-564a3da2e43c",
   "metadata": {},
   "outputs": [],
   "source": [
    "ust_aykiri=(peng_culmenDepth < alt_sinir)"
   ]
  },
  {
   "cell_type": "code",
   "execution_count": 85,
   "id": "a887866d-808b-428c-8819-a081d68bfe3e",
   "metadata": {},
   "outputs": [
    {
     "data": {
      "text/plain": [
       "0      False\n",
       "1      False\n",
       "2      False\n",
       "4      False\n",
       "5      False\n",
       "       ...  \n",
       "338    False\n",
       "340    False\n",
       "341    False\n",
       "342    False\n",
       "343    False\n",
       "Name: culmen_depth_mm, Length: 342, dtype: bool"
      ]
     },
     "execution_count": 85,
     "metadata": {},
     "output_type": "execute_result"
    }
   ],
   "source": [
    "ust_aykiri"
   ]
  },
  {
   "cell_type": "markdown",
   "id": "a6b9909d-0845-4e16-9214-2b656e3f2061",
   "metadata": {},
   "source": [
    "AYKIRI VERİLERİ ORTALAMA İLE DOLDURMA"
   ]
  },
  {
   "cell_type": "code",
   "execution_count": 86,
   "id": "578f29dd-3897-403d-b573-a24787b1be83",
   "metadata": {},
   "outputs": [
    {
     "data": {
      "text/plain": [
       "10     42.1\n",
       "62      9.8\n",
       "66     10.4\n",
       "76     24.2\n",
       "139    10.1\n",
       "140     9.5\n",
       "Name: culmen_depth_mm, dtype: float64"
      ]
     },
     "execution_count": 86,
     "metadata": {},
     "output_type": "execute_result"
    }
   ],
   "source": [
    "peng_culmenDepth[aykiri]"
   ]
  },
  {
   "cell_type": "code",
   "execution_count": 87,
   "id": "b2dda957-79ac-4690-8479-cb99e9ad12a6",
   "metadata": {},
   "outputs": [
    {
     "data": {
      "text/plain": [
       "17.162865497076027"
      ]
     },
     "execution_count": 87,
     "metadata": {},
     "output_type": "execute_result"
    }
   ],
   "source": [
    "peng_culmenDepth.mean()"
   ]
  },
  {
   "cell_type": "code",
   "execution_count": 88,
   "id": "832cb355-a550-46a5-84f2-a3d7c7fc3d2a",
   "metadata": {},
   "outputs": [
    {
     "name": "stderr",
     "output_type": "stream",
     "text": [
      "C:\\Users\\demir\\AppData\\Local\\Temp\\ipykernel_8072\\792403576.py:1: SettingWithCopyWarning: \n",
      "A value is trying to be set on a copy of a slice from a DataFrame\n",
      "\n",
      "See the caveats in the documentation: https://pandas.pydata.org/pandas-docs/stable/user_guide/indexing.html#returning-a-view-versus-a-copy\n",
      "  peng_culmenDepth[aykiri] = peng_culmenDepth.mean()\n"
     ]
    }
   ],
   "source": [
    "peng_culmenDepth[aykiri] = peng_culmenDepth.mean()"
   ]
  },
  {
   "cell_type": "code",
   "execution_count": 89,
   "id": "aa84518f-d0fc-4b8e-afbb-a9144dfbbfed",
   "metadata": {},
   "outputs": [
    {
     "data": {
      "text/plain": [
       "10     17.162865\n",
       "62     17.162865\n",
       "66     17.162865\n",
       "76     17.162865\n",
       "139    17.162865\n",
       "140    17.162865\n",
       "Name: culmen_depth_mm, dtype: float64"
      ]
     },
     "execution_count": 89,
     "metadata": {},
     "output_type": "execute_result"
    }
   ],
   "source": [
    "peng_culmenDepth[aykiri]"
   ]
  },
  {
   "cell_type": "code",
   "execution_count": 90,
   "id": "3eb8e909-d9c7-4273-b15e-d282027c9d82",
   "metadata": {},
   "outputs": [
    {
     "data": {
      "text/plain": [
       "0      18.7\n",
       "1      17.4\n",
       "2      18.0\n",
       "4      19.3\n",
       "5      20.6\n",
       "       ... \n",
       "338    13.7\n",
       "340    14.3\n",
       "341    15.7\n",
       "342    14.8\n",
       "343    16.1\n",
       "Name: culmen_depth_mm, Length: 342, dtype: float64"
      ]
     },
     "execution_count": 90,
     "metadata": {},
     "output_type": "execute_result"
    }
   ],
   "source": [
    "peng_culmenDepth"
   ]
  },
  {
   "cell_type": "code",
   "execution_count": 91,
   "id": "dd96fe19-ac6d-45a4-b9f9-cc6a32705ef8",
   "metadata": {},
   "outputs": [
    {
     "name": "stderr",
     "output_type": "stream",
     "text": [
      "C:\\Users\\demir\\AppData\\Local\\Temp\\ipykernel_8072\\3994371196.py:1: SettingWithCopyWarning: \n",
      "A value is trying to be set on a copy of a slice from a DataFrame.\n",
      "Try using .loc[row_indexer,col_indexer] = value instead\n",
      "\n",
      "See the caveats in the documentation: https://pandas.pydata.org/pandas-docs/stable/user_guide/indexing.html#returning-a-view-versus-a-copy\n",
      "  peng[\"culmen_depth_mm\"] = peng_culmenDepth\n"
     ]
    }
   ],
   "source": [
    "peng[\"culmen_depth_mm\"] = peng_culmenDepth"
   ]
  },
  {
   "cell_type": "markdown",
   "id": "1483dde0-3e7c-44e0-949d-e8c6796e09d3",
   "metadata": {},
   "source": [
    "---------------------------------------------------------------------------------"
   ]
  },
  {
   "cell_type": "markdown",
   "id": "ef910dfd-ffc3-45ac-8756-9830d7033ff1",
   "metadata": {},
   "source": [
    "FLİPPER LENGTH AYKIRI VERİ_TESPİTİ"
   ]
  },
  {
   "cell_type": "code",
   "execution_count": 92,
   "id": "c8b64f23-17cc-42c7-81a4-f4d613ec6674",
   "metadata": {},
   "outputs": [],
   "source": [
    "peng_flipperLength = peng[\"flipper_length_mm\"]"
   ]
  },
  {
   "cell_type": "code",
   "execution_count": 93,
   "id": "d1fd892d-0ecc-4d3f-8a77-03d6f2242420",
   "metadata": {},
   "outputs": [
    {
     "data": {
      "text/plain": [
       "0    181.0\n",
       "1    186.0\n",
       "2    195.0\n",
       "4    193.0\n",
       "5    190.0\n",
       "Name: flipper_length_mm, dtype: float64"
      ]
     },
     "execution_count": 93,
     "metadata": {},
     "output_type": "execute_result"
    }
   ],
   "source": [
    "peng_flipperLength.head()"
   ]
  },
  {
   "cell_type": "code",
   "execution_count": 94,
   "id": "24540fdf-675b-4c93-8acd-da2fe5eac5d9",
   "metadata": {},
   "outputs": [
    {
     "name": "stderr",
     "output_type": "stream",
     "text": [
      "C:\\Users\\demir\\anaconda3\\Lib\\site-packages\\seaborn\\_oldcore.py:1498: FutureWarning: is_categorical_dtype is deprecated and will be removed in a future version. Use isinstance(dtype, CategoricalDtype) instead\n",
      "  if pd.api.types.is_categorical_dtype(vector):\n"
     ]
    },
    {
     "data": {
      "image/png": "[encoded data removed]",
      "text/plain": [
       "<Figure size 640x480 with 1 Axes>"
      ]
     },
     "metadata": {},
     "output_type": "display_data"
    }
   ],
   "source": [
    "sb.boxplot(x = peng_flipperLength);"
   ]
  },
  {
   "cell_type": "code",
   "execution_count": 95,
   "id": "c4eb29fe-61c4-4f56-85c9-e366e33aac9d",
   "metadata": {},
   "outputs": [],
   "source": [
    "Q1 = peng_flipperLength.quantile(0.25) #Veri setinin %25'lik indeksine karşılık gelen değer\n",
    "Q3 = peng_flipperLength.quantile(0.75) #Veri setinin %75'lik indeksine karşılık gelen değer\n",
    "IQR = Q3-Q1 #Çeyrekler açıklığı"
   ]
  },
  {
   "cell_type": "code",
   "execution_count": 96,
   "id": "e22eaec9-27af-4420-a56c-4722fc6508ee",
   "metadata": {},
   "outputs": [
    {
     "data": {
      "text/plain": [
       "190.0"
      ]
     },
     "execution_count": 96,
     "metadata": {},
     "output_type": "execute_result"
    }
   ],
   "source": [
    "Q1"
   ]
  },
  {
   "cell_type": "code",
   "execution_count": 97,
   "id": "4060378a-4c98-4f0e-8e8f-efca9f6f0162",
   "metadata": {},
   "outputs": [
    {
     "data": {
      "text/plain": [
       "214.0"
      ]
     },
     "execution_count": 97,
     "metadata": {},
     "output_type": "execute_result"
    }
   ],
   "source": [
    "Q3"
   ]
  },
  {
   "cell_type": "code",
   "execution_count": 98,
   "id": "2d914fac-bbd1-46a7-91f6-7338415597cc",
   "metadata": {},
   "outputs": [
    {
     "data": {
      "text/plain": [
       "24.0"
      ]
     },
     "execution_count": 98,
     "metadata": {},
     "output_type": "execute_result"
    }
   ],
   "source": [
    "IQR"
   ]
  },
  {
   "cell_type": "code",
   "execution_count": 99,
   "id": "c68170fd-da20-463b-a94f-0f63a99bd9e0",
   "metadata": {},
   "outputs": [],
   "source": [
    "alt_sinir = Q1- 1.5*IQR\n",
    "ust_sinir = Q3 + 1.5*IQR"
   ]
  },
  {
   "cell_type": "code",
   "execution_count": 100,
   "id": "6ecf497c-e30c-4640-aabe-057d439c9d6f",
   "metadata": {},
   "outputs": [
    {
     "data": {
      "text/plain": [
       "154.0"
      ]
     },
     "execution_count": 100,
     "metadata": {},
     "output_type": "execute_result"
    }
   ],
   "source": [
    "alt_sinir"
   ]
  },
  {
   "cell_type": "code",
   "execution_count": 101,
   "id": "9ab8f1e2-1d07-4a71-a6d2-7073bc94e9d0",
   "metadata": {},
   "outputs": [
    {
     "data": {
      "text/plain": [
       "250.0"
      ]
     },
     "execution_count": 101,
     "metadata": {},
     "output_type": "execute_result"
    }
   ],
   "source": [
    "ust_sinir"
   ]
  },
  {
   "cell_type": "code",
   "execution_count": 102,
   "id": "2ca7c1d0-3c9c-43af-a746-1edfeb3029b6",
   "metadata": {},
   "outputs": [
    {
     "data": {
      "text/plain": [
       "0      False\n",
       "1      False\n",
       "2      False\n",
       "4      False\n",
       "5      False\n",
       "       ...  \n",
       "338    False\n",
       "340    False\n",
       "341    False\n",
       "342    False\n",
       "343    False\n",
       "Name: flipper_length_mm, Length: 342, dtype: bool"
      ]
     },
     "execution_count": 102,
     "metadata": {},
     "output_type": "execute_result"
    }
   ],
   "source": [
    "(peng_flipperLength < alt_sinir) | (peng_flipperLength > ust_sinir)"
   ]
  },
  {
   "cell_type": "code",
   "execution_count": 103,
   "id": "b0680781-eeed-48bd-9ec2-25b8be76afd0",
   "metadata": {},
   "outputs": [],
   "source": [
    "aykiri = (peng_flipperLength < alt_sinir) | (peng_flipperLength > ust_sinir)"
   ]
  },
  {
   "cell_type": "code",
   "execution_count": 104,
   "id": "75ab9229-f88f-43fd-8d16-b208c66b0e8a",
   "metadata": {},
   "outputs": [
    {
     "data": {
      "text/plain": [
       "0    False\n",
       "1    False\n",
       "2    False\n",
       "4    False\n",
       "5    False\n",
       "Name: flipper_length_mm, dtype: bool"
      ]
     },
     "execution_count": 104,
     "metadata": {},
     "output_type": "execute_result"
    }
   ],
   "source": [
    "aykiri.head()"
   ]
  },
  {
   "cell_type": "code",
   "execution_count": 105,
   "id": "eac46530-f4a2-408e-84d7-8864195cc11b",
   "metadata": {},
   "outputs": [
    {
     "data": {
      "text/plain": [
       "38     153.0\n",
       "151    251.0\n",
       "Name: flipper_length_mm, dtype: float64"
      ]
     },
     "execution_count": 105,
     "metadata": {},
     "output_type": "execute_result"
    }
   ],
   "source": [
    "peng_flipperLength[aykiri]"
   ]
  },
  {
   "cell_type": "code",
   "execution_count": 106,
   "id": "83adc03d-d485-47e3-ac79-72c71a69761a",
   "metadata": {},
   "outputs": [
    {
     "data": {
      "text/plain": [
       "Index([38, 151], dtype='int64')"
      ]
     },
     "execution_count": 106,
     "metadata": {},
     "output_type": "execute_result"
    }
   ],
   "source": [
    "peng_flipperLength[aykiri].index"
   ]
  },
  {
   "cell_type": "code",
   "execution_count": 107,
   "id": "40ee6377-91cf-4091-9ce3-b356fd505125",
   "metadata": {},
   "outputs": [],
   "source": [
    "alt_aykiri=(peng_flipperLength < alt_sinir)"
   ]
  },
  {
   "cell_type": "code",
   "execution_count": 108,
   "id": "113954fc-99ff-4a20-b11f-57afc0e99407",
   "metadata": {},
   "outputs": [
    {
     "data": {
      "text/plain": [
       "0      False\n",
       "1      False\n",
       "2      False\n",
       "4      False\n",
       "5      False\n",
       "       ...  \n",
       "338    False\n",
       "340    False\n",
       "341    False\n",
       "342    False\n",
       "343    False\n",
       "Name: flipper_length_mm, Length: 342, dtype: bool"
      ]
     },
     "execution_count": 108,
     "metadata": {},
     "output_type": "execute_result"
    }
   ],
   "source": [
    "alt_aykiri"
   ]
  },
  {
   "cell_type": "code",
   "execution_count": 109,
   "id": "729f29a7-0d09-43ef-9dc8-2881cffe3453",
   "metadata": {},
   "outputs": [],
   "source": [
    "ust_aykiri=(peng_flipperLength < alt_sinir)"
   ]
  },
  {
   "cell_type": "code",
   "execution_count": 110,
   "id": "1259b89f-ffdd-40fa-93dc-53fbdc465e54",
   "metadata": {},
   "outputs": [
    {
     "data": {
      "text/plain": [
       "0      False\n",
       "1      False\n",
       "2      False\n",
       "4      False\n",
       "5      False\n",
       "       ...  \n",
       "338    False\n",
       "340    False\n",
       "341    False\n",
       "342    False\n",
       "343    False\n",
       "Name: flipper_length_mm, Length: 342, dtype: bool"
      ]
     },
     "execution_count": 110,
     "metadata": {},
     "output_type": "execute_result"
    }
   ],
   "source": [
    "ust_aykiri"
   ]
  },
  {
   "cell_type": "markdown",
   "id": "e91958d5-4c43-412f-a730-63c178f4acfe",
   "metadata": {},
   "source": [
    "AYKIRI DEĞERLERİ ORTALAMA İLE DOLDURMA "
   ]
  },
  {
   "cell_type": "code",
   "execution_count": 111,
   "id": "09d38b6c-aba8-4965-b80e-e29264f9d22f",
   "metadata": {},
   "outputs": [
    {
     "data": {
      "text/plain": [
       "38     153.0\n",
       "151    251.0\n",
       "Name: flipper_length_mm, dtype: float64"
      ]
     },
     "execution_count": 111,
     "metadata": {},
     "output_type": "execute_result"
    }
   ],
   "source": [
    "peng_flipperLength[aykiri]"
   ]
  },
  {
   "cell_type": "code",
   "execution_count": 112,
   "id": "68c4d5fa-fc0f-469e-b127-fb297fbbd749",
   "metadata": {},
   "outputs": [
    {
     "data": {
      "text/plain": [
       "201.14912280701753"
      ]
     },
     "execution_count": 112,
     "metadata": {},
     "output_type": "execute_result"
    }
   ],
   "source": [
    "peng_flipperLength.mean()"
   ]
  },
  {
   "cell_type": "code",
   "execution_count": 113,
   "id": "585c87c5-9ab6-489f-99c9-cad5cf04683e",
   "metadata": {},
   "outputs": [
    {
     "name": "stderr",
     "output_type": "stream",
     "text": [
      "C:\\Users\\demir\\AppData\\Local\\Temp\\ipykernel_8072\\2895134913.py:1: SettingWithCopyWarning: \n",
      "A value is trying to be set on a copy of a slice from a DataFrame\n",
      "\n",
      "See the caveats in the documentation: https://pandas.pydata.org/pandas-docs/stable/user_guide/indexing.html#returning-a-view-versus-a-copy\n",
      "  peng_flipperLength[aykiri] = peng_flipperLength.mean()\n"
     ]
    }
   ],
   "source": [
    "peng_flipperLength[aykiri] = peng_flipperLength.mean()"
   ]
  },
  {
   "cell_type": "code",
   "execution_count": 114,
   "id": "6ccae2a3-0861-44ce-be16-6f6d19399d9f",
   "metadata": {},
   "outputs": [
    {
     "data": {
      "text/plain": [
       "38     201.149123\n",
       "151    201.149123\n",
       "Name: flipper_length_mm, dtype: float64"
      ]
     },
     "execution_count": 114,
     "metadata": {},
     "output_type": "execute_result"
    }
   ],
   "source": [
    "peng_flipperLength[aykiri]"
   ]
  },
  {
   "cell_type": "code",
   "execution_count": 115,
   "id": "fb43fe2a-d50e-430e-b6b7-468d5ba2046a",
   "metadata": {},
   "outputs": [
    {
     "data": {
      "text/plain": [
       "0      181.0\n",
       "1      186.0\n",
       "2      195.0\n",
       "4      193.0\n",
       "5      190.0\n",
       "       ...  \n",
       "338    214.0\n",
       "340    215.0\n",
       "341    222.0\n",
       "342    212.0\n",
       "343    213.0\n",
       "Name: flipper_length_mm, Length: 342, dtype: float64"
      ]
     },
     "execution_count": 115,
     "metadata": {},
     "output_type": "execute_result"
    }
   ],
   "source": [
    "peng_flipperLength"
   ]
  },
  {
   "cell_type": "code",
   "execution_count": 116,
   "id": "bdb9580c-1bb0-4a54-b162-c7728517b9e3",
   "metadata": {},
   "outputs": [
    {
     "name": "stderr",
     "output_type": "stream",
     "text": [
      "C:\\Users\\demir\\AppData\\Local\\Temp\\ipykernel_8072\\1622294710.py:1: SettingWithCopyWarning: \n",
      "A value is trying to be set on a copy of a slice from a DataFrame.\n",
      "Try using .loc[row_indexer,col_indexer] = value instead\n",
      "\n",
      "See the caveats in the documentation: https://pandas.pydata.org/pandas-docs/stable/user_guide/indexing.html#returning-a-view-versus-a-copy\n",
      "  peng[\"flipper_length_mm\"] = peng_flipperLength\n"
     ]
    }
   ],
   "source": [
    "peng[\"flipper_length_mm\"] = peng_flipperLength"
   ]
  },
  {
   "cell_type": "markdown",
   "id": "646c9062-46d2-4896-8950-2a6a496fcc23",
   "metadata": {},
   "source": [
    "--------------------------------------------------------------------------------"
   ]
  },
  {
   "cell_type": "markdown",
   "id": "cd306529-74a0-4e89-a0ef-afae24dbd9ed",
   "metadata": {},
   "source": [
    "BODY MESS AYKIRI VERİ TESPİTİ"
   ]
  },
  {
   "cell_type": "code",
   "execution_count": 117,
   "id": "2b48c5e8-85ef-49de-aaf8-bc148965721b",
   "metadata": {},
   "outputs": [],
   "source": [
    "peng_bodyMass = peng[\"body_mass_g\"]"
   ]
  },
  {
   "cell_type": "code",
   "execution_count": 118,
   "id": "4aba3a7a-085e-406e-a038-286e587a3d85",
   "metadata": {},
   "outputs": [
    {
     "data": {
      "text/plain": [
       "0    3750.0\n",
       "1    3800.0\n",
       "2    3250.0\n",
       "4    3450.0\n",
       "5    3650.0\n",
       "Name: body_mass_g, dtype: float64"
      ]
     },
     "execution_count": 118,
     "metadata": {},
     "output_type": "execute_result"
    }
   ],
   "source": [
    "peng_bodyMass.head()"
   ]
  },
  {
   "cell_type": "code",
   "execution_count": 119,
   "id": "a973b5d4-2113-4f54-a33d-be78ea1d65b7",
   "metadata": {},
   "outputs": [
    {
     "name": "stderr",
     "output_type": "stream",
     "text": [
      "C:\\Users\\demir\\anaconda3\\Lib\\site-packages\\seaborn\\_oldcore.py:1498: FutureWarning: is_categorical_dtype is deprecated and will be removed in a future version. Use isinstance(dtype, CategoricalDtype) instead\n",
      "  if pd.api.types.is_categorical_dtype(vector):\n"
     ]
    },
    {
     "data": {
      "image/png": "[encoded data removed]",
      "text/plain": [
       "<Figure size 640x480 with 1 Axes>"
      ]
     },
     "metadata": {},
     "output_type": "display_data"
    }
   ],
   "source": [
    "sb.boxplot(x = peng_bodyMass);"
   ]
  },
  {
   "cell_type": "code",
   "execution_count": 120,
   "id": "b31eb7d9-21e8-46b6-ae85-45a056261d50",
   "metadata": {},
   "outputs": [],
   "source": [
    "Q1 = peng_bodyMass.quantile(0.25) #Veri setinin %25'lik indeksine karşılık gelen değer\n",
    "Q3 = peng_bodyMass.quantile(0.75) #Veri setinin %75'lik indeksine karşılık gelen değer\n",
    "IQR = Q3-Q1 #Çeyrekler açıklığı"
   ]
  },
  {
   "cell_type": "code",
   "execution_count": 121,
   "id": "0d4fd90d-b270-4b46-8113-286695c30871",
   "metadata": {},
   "outputs": [
    {
     "data": {
      "text/plain": [
       "3550.0"
      ]
     },
     "execution_count": 121,
     "metadata": {},
     "output_type": "execute_result"
    }
   ],
   "source": [
    "Q1"
   ]
  },
  {
   "cell_type": "code",
   "execution_count": 122,
   "id": "875b7535-c795-49a7-b52a-6e9b0d088900",
   "metadata": {},
   "outputs": [
    {
     "data": {
      "text/plain": [
       "4768.75"
      ]
     },
     "execution_count": 122,
     "metadata": {},
     "output_type": "execute_result"
    }
   ],
   "source": [
    "Q3"
   ]
  },
  {
   "cell_type": "code",
   "execution_count": 123,
   "id": "fca5ac25-6a4a-4769-a3ed-3da303efacab",
   "metadata": {},
   "outputs": [
    {
     "data": {
      "text/plain": [
       "1218.75"
      ]
     },
     "execution_count": 123,
     "metadata": {},
     "output_type": "execute_result"
    }
   ],
   "source": [
    "IQR"
   ]
  },
  {
   "cell_type": "code",
   "execution_count": 124,
   "id": "ddad58a7-2c55-427d-beda-27d714bc8dbb",
   "metadata": {},
   "outputs": [],
   "source": [
    "alt_sinir = Q1- 1.5*IQR\n",
    "ust_sinir = Q3 + 1.5*IQR"
   ]
  },
  {
   "cell_type": "code",
   "execution_count": 125,
   "id": "51c51e8b-cc6c-4238-89bb-a6c04b0a16dd",
   "metadata": {},
   "outputs": [
    {
     "data": {
      "text/plain": [
       "1721.875"
      ]
     },
     "execution_count": 125,
     "metadata": {},
     "output_type": "execute_result"
    }
   ],
   "source": [
    "alt_sinir"
   ]
  },
  {
   "cell_type": "code",
   "execution_count": 126,
   "id": "38acca42-d091-4071-b711-c88dbf2c686e",
   "metadata": {},
   "outputs": [
    {
     "data": {
      "text/plain": [
       "6596.875"
      ]
     },
     "execution_count": 126,
     "metadata": {},
     "output_type": "execute_result"
    }
   ],
   "source": [
    "ust_sinir"
   ]
  },
  {
   "cell_type": "code",
   "execution_count": 127,
   "id": "f0852d8e-d9dd-4a23-ac4a-a5bf1f5ca77c",
   "metadata": {},
   "outputs": [
    {
     "data": {
      "text/plain": [
       "0      False\n",
       "1      False\n",
       "2      False\n",
       "4      False\n",
       "5      False\n",
       "       ...  \n",
       "338    False\n",
       "340    False\n",
       "341    False\n",
       "342    False\n",
       "343    False\n",
       "Name: body_mass_g, Length: 342, dtype: bool"
      ]
     },
     "execution_count": 127,
     "metadata": {},
     "output_type": "execute_result"
    }
   ],
   "source": [
    "(peng_bodyMass < alt_sinir) | (peng_bodyMass > ust_sinir)"
   ]
  },
  {
   "cell_type": "code",
   "execution_count": 128,
   "id": "e78acc38-7143-4e3e-a665-9303a055fa09",
   "metadata": {},
   "outputs": [],
   "source": [
    "aykiri = (peng_bodyMass < alt_sinir) | (peng_bodyMass > ust_sinir)"
   ]
  },
  {
   "cell_type": "code",
   "execution_count": 129,
   "id": "960b1d3a-5e95-4dc4-83cb-f08693514944",
   "metadata": {},
   "outputs": [
    {
     "data": {
      "text/plain": [
       "0    False\n",
       "1    False\n",
       "2    False\n",
       "4    False\n",
       "5    False\n",
       "Name: body_mass_g, dtype: bool"
      ]
     },
     "execution_count": 129,
     "metadata": {},
     "output_type": "execute_result"
    }
   ],
   "source": [
    "aykiri.head()"
   ]
  },
  {
   "cell_type": "code",
   "execution_count": 130,
   "id": "d666c7e2-6b9f-4cf3-8389-82e6c6666d87",
   "metadata": {},
   "outputs": [
    {
     "data": {
      "text/plain": [
       "189    6700.0\n",
       "291    1568.0\n",
       "Name: body_mass_g, dtype: float64"
      ]
     },
     "execution_count": 130,
     "metadata": {},
     "output_type": "execute_result"
    }
   ],
   "source": [
    "peng_bodyMass[aykiri]"
   ]
  },
  {
   "cell_type": "code",
   "execution_count": 131,
   "id": "ff94806e-1882-4cbd-9d6c-238ba44f91be",
   "metadata": {},
   "outputs": [
    {
     "data": {
      "text/plain": [
       "Index([189, 291], dtype='int64')"
      ]
     },
     "execution_count": 131,
     "metadata": {},
     "output_type": "execute_result"
    }
   ],
   "source": [
    "peng_bodyMass[aykiri].index"
   ]
  },
  {
   "cell_type": "code",
   "execution_count": 132,
   "id": "05abc5cd-16a9-4a6d-9c76-8cbf763ff4e3",
   "metadata": {},
   "outputs": [],
   "source": [
    "alt_aykiri=(peng_bodyMass < alt_sinir)"
   ]
  },
  {
   "cell_type": "code",
   "execution_count": 133,
   "id": "fdbb8d6a-cae0-4559-ab1d-58a711ae927e",
   "metadata": {},
   "outputs": [
    {
     "data": {
      "text/plain": [
       "0      False\n",
       "1      False\n",
       "2      False\n",
       "4      False\n",
       "5      False\n",
       "       ...  \n",
       "338    False\n",
       "340    False\n",
       "341    False\n",
       "342    False\n",
       "343    False\n",
       "Name: body_mass_g, Length: 342, dtype: bool"
      ]
     },
     "execution_count": 133,
     "metadata": {},
     "output_type": "execute_result"
    }
   ],
   "source": [
    "alt_aykiri"
   ]
  },
  {
   "cell_type": "code",
   "execution_count": 134,
   "id": "628b844e-3a30-45c1-9d70-6811910141d2",
   "metadata": {},
   "outputs": [],
   "source": [
    "ust_aykiri=(peng_bodyMass < alt_sinir)"
   ]
  },
  {
   "cell_type": "code",
   "execution_count": 135,
   "id": "e63e5aa1-7cfb-4fca-af61-fc8be499ee5e",
   "metadata": {},
   "outputs": [
    {
     "data": {
      "text/plain": [
       "0      False\n",
       "1      False\n",
       "2      False\n",
       "4      False\n",
       "5      False\n",
       "       ...  \n",
       "338    False\n",
       "340    False\n",
       "341    False\n",
       "342    False\n",
       "343    False\n",
       "Name: body_mass_g, Length: 342, dtype: bool"
      ]
     },
     "execution_count": 135,
     "metadata": {},
     "output_type": "execute_result"
    }
   ],
   "source": [
    "ust_aykiri"
   ]
  },
  {
   "cell_type": "markdown",
   "id": "5b381d9b-fa9d-4a34-a737-a441e13587c0",
   "metadata": {},
   "source": [
    "AYKIRI DEĞERLERİ ORTALAMA İLE DOLDURMA"
   ]
  },
  {
   "cell_type": "code",
   "execution_count": 136,
   "id": "fb0c9ab7-a3ef-4cd9-b4b3-336f6547867c",
   "metadata": {},
   "outputs": [
    {
     "data": {
      "text/plain": [
       "189    6700.0\n",
       "291    1568.0\n",
       "Name: body_mass_g, dtype: float64"
      ]
     },
     "execution_count": 136,
     "metadata": {},
     "output_type": "execute_result"
    }
   ],
   "source": [
    "peng_bodyMass[aykiri]"
   ]
  },
  {
   "cell_type": "code",
   "execution_count": 137,
   "id": "7becde9d-4c23-4056-b765-9ad9adb8ed1f",
   "metadata": {},
   "outputs": [
    {
     "data": {
      "text/plain": [
       "4199.309941520468"
      ]
     },
     "execution_count": 137,
     "metadata": {},
     "output_type": "execute_result"
    }
   ],
   "source": [
    "peng_bodyMass.mean()"
   ]
  },
  {
   "cell_type": "code",
   "execution_count": 138,
   "id": "67a7e7d3-abb3-4c81-99a2-d940790f88c4",
   "metadata": {},
   "outputs": [
    {
     "name": "stderr",
     "output_type": "stream",
     "text": [
      "C:\\Users\\demir\\AppData\\Local\\Temp\\ipykernel_8072\\1102934558.py:1: SettingWithCopyWarning: \n",
      "A value is trying to be set on a copy of a slice from a DataFrame\n",
      "\n",
      "See the caveats in the documentation: https://pandas.pydata.org/pandas-docs/stable/user_guide/indexing.html#returning-a-view-versus-a-copy\n",
      "  peng_bodyMass[aykiri] = peng_bodyMass.mean()\n"
     ]
    }
   ],
   "source": [
    "peng_bodyMass[aykiri] = peng_bodyMass.mean()"
   ]
  },
  {
   "cell_type": "code",
   "execution_count": 139,
   "id": "904b3449-9f05-4806-8b07-a311d908c9fc",
   "metadata": {},
   "outputs": [
    {
     "data": {
      "text/plain": [
       "189    4199.309942\n",
       "291    4199.309942\n",
       "Name: body_mass_g, dtype: float64"
      ]
     },
     "execution_count": 139,
     "metadata": {},
     "output_type": "execute_result"
    }
   ],
   "source": [
    "peng_bodyMass[aykiri]"
   ]
  },
  {
   "cell_type": "code",
   "execution_count": 140,
   "id": "b711ce0f-55cc-4b94-9c97-0ec3d45a8a03",
   "metadata": {},
   "outputs": [
    {
     "data": {
      "text/plain": [
       "0      3750.0\n",
       "1      3800.0\n",
       "2      3250.0\n",
       "4      3450.0\n",
       "5      3650.0\n",
       "        ...  \n",
       "338    4925.0\n",
       "340    4850.0\n",
       "341    5750.0\n",
       "342    5200.0\n",
       "343    5400.0\n",
       "Name: body_mass_g, Length: 342, dtype: float64"
      ]
     },
     "execution_count": 140,
     "metadata": {},
     "output_type": "execute_result"
    }
   ],
   "source": [
    "peng_bodyMass"
   ]
  },
  {
   "cell_type": "code",
   "execution_count": 141,
   "id": "3e4602fa-1591-4e9c-af9c-7a99ca208bf0",
   "metadata": {},
   "outputs": [
    {
     "name": "stderr",
     "output_type": "stream",
     "text": [
      "C:\\Users\\demir\\AppData\\Local\\Temp\\ipykernel_8072\\1675521995.py:1: SettingWithCopyWarning: \n",
      "A value is trying to be set on a copy of a slice from a DataFrame.\n",
      "Try using .loc[row_indexer,col_indexer] = value instead\n",
      "\n",
      "See the caveats in the documentation: https://pandas.pydata.org/pandas-docs/stable/user_guide/indexing.html#returning-a-view-versus-a-copy\n",
      "  peng[\"body_mass_g\"] = peng_bodyMass\n"
     ]
    }
   ],
   "source": [
    "peng[\"body_mass_g\"] = peng_bodyMass"
   ]
  },
  {
   "cell_type": "markdown",
   "id": "423d8373-8971-4db7-a99b-fbe0850dc104",
   "metadata": {},
   "source": [
    "--------------------------------------------------------------------------------------------------------------------------------"
   ]
  },
  {
   "cell_type": "code",
   "execution_count": 144,
   "id": "d67f255f-280a-45e6-8122-676dcae99121",
   "metadata": {},
   "outputs": [],
   "source": [
    "peng2.loc[peng.index] = peng   #başta kopyaladığım ve eksik verilerin mevcut olduğu veri setine üzerinde çalıştığım veri setini indexe göre ekledim\n",
    "                                     #böylece eksik verilerimi de kaybetmemiş oldum \n"
   ]
  },
  {
   "cell_type": "code",
   "execution_count": 145,
   "id": "5def9791-e096-4481-ac16-cdb1a5b16b0a",
   "metadata": {},
   "outputs": [
    {
     "data": {
      "text/html": [
       "<div>\n",
       "<style scoped>\n",
       "    .dataframe tbody tr th:only-of-type {\n",
       "        vertical-align: middle;\n",
       "    }\n",
       "\n",
       "    .dataframe tbody tr th {\n",
       "        vertical-align: top;\n",
       "    }\n",
       "\n",
       "    .dataframe thead th {\n",
       "        text-align: right;\n",
       "    }\n",
       "</style>\n",
       "<table border=\"1\" class=\"dataframe\">\n",
       "  <thead>\n",
       "    <tr style=\"text-align: right;\">\n",
       "      <th></th>\n",
       "      <th>culmen_length_mm</th>\n",
       "      <th>culmen_depth_mm</th>\n",
       "      <th>flipper_length_mm</th>\n",
       "      <th>body_mass_g</th>\n",
       "    </tr>\n",
       "  </thead>\n",
       "  <tbody>\n",
       "    <tr>\n",
       "      <th>0</th>\n",
       "      <td>37.8</td>\n",
       "      <td>18.7</td>\n",
       "      <td>181.0</td>\n",
       "      <td>3750.0</td>\n",
       "    </tr>\n",
       "    <tr>\n",
       "      <th>1</th>\n",
       "      <td>35.5</td>\n",
       "      <td>17.4</td>\n",
       "      <td>186.0</td>\n",
       "      <td>3800.0</td>\n",
       "    </tr>\n",
       "    <tr>\n",
       "      <th>2</th>\n",
       "      <td>40.3</td>\n",
       "      <td>18.0</td>\n",
       "      <td>195.0</td>\n",
       "      <td>3250.0</td>\n",
       "    </tr>\n",
       "    <tr>\n",
       "      <th>3</th>\n",
       "      <td>NaN</td>\n",
       "      <td>NaN</td>\n",
       "      <td>NaN</td>\n",
       "      <td>NaN</td>\n",
       "    </tr>\n",
       "    <tr>\n",
       "      <th>4</th>\n",
       "      <td>36.7</td>\n",
       "      <td>19.3</td>\n",
       "      <td>193.0</td>\n",
       "      <td>3450.0</td>\n",
       "    </tr>\n",
       "    <tr>\n",
       "      <th>...</th>\n",
       "      <td>...</td>\n",
       "      <td>...</td>\n",
       "      <td>...</td>\n",
       "      <td>...</td>\n",
       "    </tr>\n",
       "    <tr>\n",
       "      <th>339</th>\n",
       "      <td>NaN</td>\n",
       "      <td>NaN</td>\n",
       "      <td>NaN</td>\n",
       "      <td>NaN</td>\n",
       "    </tr>\n",
       "    <tr>\n",
       "      <th>340</th>\n",
       "      <td>46.8</td>\n",
       "      <td>14.3</td>\n",
       "      <td>215.0</td>\n",
       "      <td>4850.0</td>\n",
       "    </tr>\n",
       "    <tr>\n",
       "      <th>341</th>\n",
       "      <td>50.4</td>\n",
       "      <td>15.7</td>\n",
       "      <td>222.0</td>\n",
       "      <td>5750.0</td>\n",
       "    </tr>\n",
       "    <tr>\n",
       "      <th>342</th>\n",
       "      <td>45.2</td>\n",
       "      <td>14.8</td>\n",
       "      <td>212.0</td>\n",
       "      <td>5200.0</td>\n",
       "    </tr>\n",
       "    <tr>\n",
       "      <th>343</th>\n",
       "      <td>49.9</td>\n",
       "      <td>16.1</td>\n",
       "      <td>213.0</td>\n",
       "      <td>5400.0</td>\n",
       "    </tr>\n",
       "  </tbody>\n",
       "</table>\n",
       "<p>344 rows × 4 columns</p>\n",
       "</div>"
      ],
      "text/plain": [
       "     culmen_length_mm  culmen_depth_mm  flipper_length_mm  body_mass_g\n",
       "0                37.8             18.7              181.0       3750.0\n",
       "1                35.5             17.4              186.0       3800.0\n",
       "2                40.3             18.0              195.0       3250.0\n",
       "3                 NaN              NaN                NaN          NaN\n",
       "4                36.7             19.3              193.0       3450.0\n",
       "..                ...              ...                ...          ...\n",
       "339               NaN              NaN                NaN          NaN\n",
       "340              46.8             14.3              215.0       4850.0\n",
       "341              50.4             15.7              222.0       5750.0\n",
       "342              45.2             14.8              212.0       5200.0\n",
       "343              49.9             16.1              213.0       5400.0\n",
       "\n",
       "[344 rows x 4 columns]"
      ]
     },
     "execution_count": 145,
     "metadata": {},
     "output_type": "execute_result"
    }
   ],
   "source": [
    "peng2"
   ]
  },
  {
   "cell_type": "code",
   "execution_count": 146,
   "id": "d890aa20-1814-48b1-aa65-24dcb364f9a5",
   "metadata": {},
   "outputs": [
    {
     "data": {
      "text/plain": [
       "culmen_length_mm     2\n",
       "culmen_depth_mm      2\n",
       "flipper_length_mm    2\n",
       "body_mass_g          2\n",
       "dtype: int64"
      ]
     },
     "execution_count": 146,
     "metadata": {},
     "output_type": "execute_result"
    }
   ],
   "source": [
    "peng2.isnull().sum()"
   ]
  },
  {
   "cell_type": "markdown",
   "id": "22fcc654-4d2a-4f18-a1db-d94b298c552c",
   "metadata": {},
   "source": [
    "-----------------------------------------------------------------------------------------------------------------------------"
   ]
  },
  {
   "cell_type": "markdown",
   "id": "a4731bf7-aced-4d52-b451-5b570d370a0c",
   "metadata": {},
   "source": [
    "EKSİK VERİ ANALİZİ"
   ]
  },
  {
   "cell_type": "code",
   "execution_count": 221,
   "id": "d2b32e6c-5889-4b12-9460-f410fa6f7dbf",
   "metadata": {},
   "outputs": [
    {
     "data": {
      "text/html": [
       "<div>\n",
       "<style scoped>\n",
       "    .dataframe tbody tr th:only-of-type {\n",
       "        vertical-align: middle;\n",
       "    }\n",
       "\n",
       "    .dataframe tbody tr th {\n",
       "        vertical-align: top;\n",
       "    }\n",
       "\n",
       "    .dataframe thead th {\n",
       "        text-align: right;\n",
       "    }\n",
       "</style>\n",
       "<table border=\"1\" class=\"dataframe\">\n",
       "  <thead>\n",
       "    <tr style=\"text-align: right;\">\n",
       "      <th></th>\n",
       "      <th>species</th>\n",
       "      <th>island</th>\n",
       "      <th>culmen_length_mm</th>\n",
       "      <th>culmen_depth_mm</th>\n",
       "      <th>flipper_length_mm</th>\n",
       "      <th>body_mass_g</th>\n",
       "      <th>sex</th>\n",
       "    </tr>\n",
       "  </thead>\n",
       "  <tbody>\n",
       "    <tr>\n",
       "      <th>0</th>\n",
       "      <td>Adelie</td>\n",
       "      <td>Torgersen</td>\n",
       "      <td>37.8</td>\n",
       "      <td>18.7</td>\n",
       "      <td>181.0</td>\n",
       "      <td>3750.0</td>\n",
       "      <td>MALE</td>\n",
       "    </tr>\n",
       "    <tr>\n",
       "      <th>1</th>\n",
       "      <td>Adelie</td>\n",
       "      <td>Torgersen</td>\n",
       "      <td>35.5</td>\n",
       "      <td>17.4</td>\n",
       "      <td>186.0</td>\n",
       "      <td>3800.0</td>\n",
       "      <td>FEMALE</td>\n",
       "    </tr>\n",
       "    <tr>\n",
       "      <th>2</th>\n",
       "      <td>Adelie</td>\n",
       "      <td>Torgersen</td>\n",
       "      <td>40.3</td>\n",
       "      <td>18.0</td>\n",
       "      <td>195.0</td>\n",
       "      <td>3250.0</td>\n",
       "      <td>FEMALE</td>\n",
       "    </tr>\n",
       "    <tr>\n",
       "      <th>3</th>\n",
       "      <td>Adelie</td>\n",
       "      <td>Torgersen</td>\n",
       "      <td>NaN</td>\n",
       "      <td>NaN</td>\n",
       "      <td>NaN</td>\n",
       "      <td>NaN</td>\n",
       "      <td>NaN</td>\n",
       "    </tr>\n",
       "    <tr>\n",
       "      <th>4</th>\n",
       "      <td>Adelie</td>\n",
       "      <td>Torgersen</td>\n",
       "      <td>36.7</td>\n",
       "      <td>19.3</td>\n",
       "      <td>193.0</td>\n",
       "      <td>3450.0</td>\n",
       "      <td>FEMALE</td>\n",
       "    </tr>\n",
       "    <tr>\n",
       "      <th>...</th>\n",
       "      <td>...</td>\n",
       "      <td>...</td>\n",
       "      <td>...</td>\n",
       "      <td>...</td>\n",
       "      <td>...</td>\n",
       "      <td>...</td>\n",
       "      <td>...</td>\n",
       "    </tr>\n",
       "    <tr>\n",
       "      <th>339</th>\n",
       "      <td>Gentoo</td>\n",
       "      <td>Biscoe</td>\n",
       "      <td>NaN</td>\n",
       "      <td>NaN</td>\n",
       "      <td>NaN</td>\n",
       "      <td>NaN</td>\n",
       "      <td>NaN</td>\n",
       "    </tr>\n",
       "    <tr>\n",
       "      <th>340</th>\n",
       "      <td>Gentoo</td>\n",
       "      <td>Biscoe</td>\n",
       "      <td>46.8</td>\n",
       "      <td>14.3</td>\n",
       "      <td>215.0</td>\n",
       "      <td>4850.0</td>\n",
       "      <td>FEMALE</td>\n",
       "    </tr>\n",
       "    <tr>\n",
       "      <th>341</th>\n",
       "      <td>Gentoo</td>\n",
       "      <td>Biscoe</td>\n",
       "      <td>50.4</td>\n",
       "      <td>15.7</td>\n",
       "      <td>222.0</td>\n",
       "      <td>5750.0</td>\n",
       "      <td>MALE</td>\n",
       "    </tr>\n",
       "    <tr>\n",
       "      <th>342</th>\n",
       "      <td>Gentoo</td>\n",
       "      <td>Biscoe</td>\n",
       "      <td>45.2</td>\n",
       "      <td>14.8</td>\n",
       "      <td>212.0</td>\n",
       "      <td>5200.0</td>\n",
       "      <td>FEMALE</td>\n",
       "    </tr>\n",
       "    <tr>\n",
       "      <th>343</th>\n",
       "      <td>Gentoo</td>\n",
       "      <td>Biscoe</td>\n",
       "      <td>49.9</td>\n",
       "      <td>16.1</td>\n",
       "      <td>213.0</td>\n",
       "      <td>5400.0</td>\n",
       "      <td>MALE</td>\n",
       "    </tr>\n",
       "  </tbody>\n",
       "</table>\n",
       "<p>344 rows × 7 columns</p>\n",
       "</div>"
      ],
      "text/plain": [
       "    species     island  culmen_length_mm  culmen_depth_mm  flipper_length_mm  \\\n",
       "0    Adelie  Torgersen              37.8             18.7              181.0   \n",
       "1    Adelie  Torgersen              35.5             17.4              186.0   \n",
       "2    Adelie  Torgersen              40.3             18.0              195.0   \n",
       "3    Adelie  Torgersen               NaN              NaN                NaN   \n",
       "4    Adelie  Torgersen              36.7             19.3              193.0   \n",
       "..      ...        ...               ...              ...                ...   \n",
       "339  Gentoo     Biscoe               NaN              NaN                NaN   \n",
       "340  Gentoo     Biscoe              46.8             14.3              215.0   \n",
       "341  Gentoo     Biscoe              50.4             15.7              222.0   \n",
       "342  Gentoo     Biscoe              45.2             14.8              212.0   \n",
       "343  Gentoo     Biscoe              49.9             16.1              213.0   \n",
       "\n",
       "     body_mass_g     sex  \n",
       "0         3750.0    MALE  \n",
       "1         3800.0  FEMALE  \n",
       "2         3250.0  FEMALE  \n",
       "3            NaN     NaN  \n",
       "4         3450.0  FEMALE  \n",
       "..           ...     ...  \n",
       "339          NaN     NaN  \n",
       "340       4850.0  FEMALE  \n",
       "341       5750.0    MALE  \n",
       "342       5200.0  FEMALE  \n",
       "343       5400.0    MALE  \n",
       "\n",
       "[344 rows x 7 columns]"
      ]
     },
     "execution_count": 221,
     "metadata": {},
     "output_type": "execute_result"
    }
   ],
   "source": [
    "peng_orj[peng2.columns]=peng2\n",
    "peng_orj"
   ]
  },
  {
   "cell_type": "code",
   "execution_count": 222,
   "id": "99333f0e-50ae-462f-9729-e3cf0ce8d73a",
   "metadata": {},
   "outputs": [
    {
     "data": {
      "text/plain": [
       "species              344\n",
       "island               344\n",
       "culmen_length_mm     342\n",
       "culmen_depth_mm      342\n",
       "flipper_length_mm    342\n",
       "body_mass_g          342\n",
       "sex                  333\n",
       "dtype: int64"
      ]
     },
     "execution_count": 222,
     "metadata": {},
     "output_type": "execute_result"
    }
   ],
   "source": [
    "#değişkenlerdeki tam değer sayısı\n",
    "peng_orj.notnull().sum()"
   ]
  },
  {
   "cell_type": "code",
   "execution_count": 223,
   "id": "100fef04-4adf-4830-8a0a-c0f1e105f7c9",
   "metadata": {},
   "outputs": [
    {
     "data": {
      "text/plain": [
       "species               0\n",
       "island                0\n",
       "culmen_length_mm      2\n",
       "culmen_depth_mm       2\n",
       "flipper_length_mm     2\n",
       "body_mass_g           2\n",
       "sex                  11\n",
       "dtype: int64"
      ]
     },
     "execution_count": 223,
     "metadata": {},
     "output_type": "execute_result"
    }
   ],
   "source": [
    "#değişkenlerdeki eksik değer sayısı\n",
    "peng_orj.isnull().sum()"
   ]
  },
  {
   "cell_type": "code",
   "execution_count": 224,
   "id": "af3d7fd6-a81f-4ddd-abb9-3896cc4543ce",
   "metadata": {},
   "outputs": [
    {
     "data": {
      "text/html": [
       "<div>\n",
       "<style scoped>\n",
       "    .dataframe tbody tr th:only-of-type {\n",
       "        vertical-align: middle;\n",
       "    }\n",
       "\n",
       "    .dataframe tbody tr th {\n",
       "        vertical-align: top;\n",
       "    }\n",
       "\n",
       "    .dataframe thead th {\n",
       "        text-align: right;\n",
       "    }\n",
       "</style>\n",
       "<table border=\"1\" class=\"dataframe\">\n",
       "  <thead>\n",
       "    <tr style=\"text-align: right;\">\n",
       "      <th></th>\n",
       "      <th>species</th>\n",
       "      <th>island</th>\n",
       "      <th>culmen_length_mm</th>\n",
       "      <th>culmen_depth_mm</th>\n",
       "      <th>flipper_length_mm</th>\n",
       "      <th>body_mass_g</th>\n",
       "      <th>sex</th>\n",
       "    </tr>\n",
       "  </thead>\n",
       "  <tbody>\n",
       "    <tr>\n",
       "      <th>3</th>\n",
       "      <td>Adelie</td>\n",
       "      <td>Torgersen</td>\n",
       "      <td>NaN</td>\n",
       "      <td>NaN</td>\n",
       "      <td>NaN</td>\n",
       "      <td>NaN</td>\n",
       "      <td>NaN</td>\n",
       "    </tr>\n",
       "    <tr>\n",
       "      <th>8</th>\n",
       "      <td>Adelie</td>\n",
       "      <td>Torgersen</td>\n",
       "      <td>34.1</td>\n",
       "      <td>18.1</td>\n",
       "      <td>193.0</td>\n",
       "      <td>3475.0</td>\n",
       "      <td>NaN</td>\n",
       "    </tr>\n",
       "    <tr>\n",
       "      <th>9</th>\n",
       "      <td>Adelie</td>\n",
       "      <td>Torgersen</td>\n",
       "      <td>42.0</td>\n",
       "      <td>20.2</td>\n",
       "      <td>190.0</td>\n",
       "      <td>4250.0</td>\n",
       "      <td>NaN</td>\n",
       "    </tr>\n",
       "    <tr>\n",
       "      <th>10</th>\n",
       "      <td>Adelie</td>\n",
       "      <td>Torgersen</td>\n",
       "      <td>37.8</td>\n",
       "      <td>42.1</td>\n",
       "      <td>186.0</td>\n",
       "      <td>3300.0</td>\n",
       "      <td>NaN</td>\n",
       "    </tr>\n",
       "    <tr>\n",
       "      <th>11</th>\n",
       "      <td>Adelie</td>\n",
       "      <td>Torgersen</td>\n",
       "      <td>20.0</td>\n",
       "      <td>17.3</td>\n",
       "      <td>180.0</td>\n",
       "      <td>3700.0</td>\n",
       "      <td>NaN</td>\n",
       "    </tr>\n",
       "    <tr>\n",
       "      <th>47</th>\n",
       "      <td>Adelie</td>\n",
       "      <td>Dream</td>\n",
       "      <td>37.5</td>\n",
       "      <td>18.9</td>\n",
       "      <td>179.0</td>\n",
       "      <td>2975.0</td>\n",
       "      <td>NaN</td>\n",
       "    </tr>\n",
       "    <tr>\n",
       "      <th>246</th>\n",
       "      <td>Gentoo</td>\n",
       "      <td>Biscoe</td>\n",
       "      <td>44.5</td>\n",
       "      <td>14.3</td>\n",
       "      <td>216.0</td>\n",
       "      <td>4100.0</td>\n",
       "      <td>NaN</td>\n",
       "    </tr>\n",
       "    <tr>\n",
       "      <th>286</th>\n",
       "      <td>Gentoo</td>\n",
       "      <td>Biscoe</td>\n",
       "      <td>46.2</td>\n",
       "      <td>14.4</td>\n",
       "      <td>214.0</td>\n",
       "      <td>4650.0</td>\n",
       "      <td>NaN</td>\n",
       "    </tr>\n",
       "    <tr>\n",
       "      <th>324</th>\n",
       "      <td>Gentoo</td>\n",
       "      <td>Biscoe</td>\n",
       "      <td>47.3</td>\n",
       "      <td>13.8</td>\n",
       "      <td>216.0</td>\n",
       "      <td>4725.0</td>\n",
       "      <td>NaN</td>\n",
       "    </tr>\n",
       "    <tr>\n",
       "      <th>336</th>\n",
       "      <td>Gentoo</td>\n",
       "      <td>Biscoe</td>\n",
       "      <td>44.5</td>\n",
       "      <td>15.7</td>\n",
       "      <td>217.0</td>\n",
       "      <td>4875.0</td>\n",
       "      <td>NaN</td>\n",
       "    </tr>\n",
       "    <tr>\n",
       "      <th>339</th>\n",
       "      <td>Gentoo</td>\n",
       "      <td>Biscoe</td>\n",
       "      <td>NaN</td>\n",
       "      <td>NaN</td>\n",
       "      <td>NaN</td>\n",
       "      <td>NaN</td>\n",
       "      <td>NaN</td>\n",
       "    </tr>\n",
       "  </tbody>\n",
       "</table>\n",
       "</div>"
      ],
      "text/plain": [
       "    species     island  culmen_length_mm  culmen_depth_mm  flipper_length_mm  \\\n",
       "3    Adelie  Torgersen               NaN              NaN                NaN   \n",
       "8    Adelie  Torgersen              34.1             18.1              193.0   \n",
       "9    Adelie  Torgersen              42.0             20.2              190.0   \n",
       "10   Adelie  Torgersen              37.8             42.1              186.0   \n",
       "11   Adelie  Torgersen              20.0             17.3              180.0   \n",
       "47   Adelie      Dream              37.5             18.9              179.0   \n",
       "246  Gentoo     Biscoe              44.5             14.3              216.0   \n",
       "286  Gentoo     Biscoe              46.2             14.4              214.0   \n",
       "324  Gentoo     Biscoe              47.3             13.8              216.0   \n",
       "336  Gentoo     Biscoe              44.5             15.7              217.0   \n",
       "339  Gentoo     Biscoe               NaN              NaN                NaN   \n",
       "\n",
       "     body_mass_g  sex  \n",
       "3            NaN  NaN  \n",
       "8         3475.0  NaN  \n",
       "9         4250.0  NaN  \n",
       "10        3300.0  NaN  \n",
       "11        3700.0  NaN  \n",
       "47        2975.0  NaN  \n",
       "246       4100.0  NaN  \n",
       "286       4650.0  NaN  \n",
       "324       4725.0  NaN  \n",
       "336       4875.0  NaN  \n",
       "339          NaN  NaN  "
      ]
     },
     "execution_count": 224,
     "metadata": {},
     "output_type": "execute_result"
    }
   ],
   "source": [
    "#en az bir eksik değere sahip gözlemler\n",
    "peng_orj[peng_orj.isnull().any(axis=1)]"
   ]
  },
  {
   "cell_type": "code",
   "execution_count": 225,
   "id": "c702c524-1fe5-48b1-8a17-b4d81bb811fa",
   "metadata": {},
   "outputs": [
    {
     "name": "stdout",
     "output_type": "stream",
     "text": [
      "Requirement already satisfied: missingno in c:\\users\\demir\\anaconda3\\lib\\site-packages (0.5.2)\n",
      "Requirement already satisfied: numpy in c:\\users\\demir\\anaconda3\\lib\\site-packages (from missingno) (1.26.0)\n",
      "Requirement already satisfied: matplotlib in c:\\users\\demir\\appdata\\roaming\\python\\python311\\site-packages (from missingno) (3.8.2)\n",
      "Requirement already satisfied: scipy in c:\\users\\demir\\anaconda3\\lib\\site-packages (from missingno) (1.11.1)\n",
      "Requirement already satisfied: seaborn in c:\\users\\demir\\anaconda3\\lib\\site-packages (from missingno) (0.12.2)\n",
      "Requirement already satisfied: contourpy>=1.0.1 in c:\\users\\demir\\anaconda3\\lib\\site-packages (from matplotlib->missingno) (1.2.0)\n",
      "Requirement already satisfied: cycler>=0.10 in c:\\users\\demir\\anaconda3\\lib\\site-packages (from matplotlib->missingno) (0.11.0)\n",
      "Requirement already satisfied: fonttools>=4.22.0 in c:\\users\\demir\\anaconda3\\lib\\site-packages (from matplotlib->missingno) (4.25.0)\n",
      "Requirement already satisfied: kiwisolver>=1.3.1 in c:\\users\\demir\\anaconda3\\lib\\site-packages (from matplotlib->missingno) (1.4.4)\n",
      "Requirement already satisfied: packaging>=20.0 in c:\\users\\demir\\anaconda3\\lib\\site-packages (from matplotlib->missingno) (23.1)\n",
      "Requirement already satisfied: pillow>=8 in c:\\users\\demir\\anaconda3\\lib\\site-packages (from matplotlib->missingno) (10.0.1)\n",
      "Requirement already satisfied: pyparsing>=2.3.1 in c:\\users\\demir\\anaconda3\\lib\\site-packages (from matplotlib->missingno) (3.0.9)\n",
      "Requirement already satisfied: python-dateutil>=2.7 in c:\\users\\demir\\anaconda3\\lib\\site-packages (from matplotlib->missingno) (2.8.2)\n",
      "Requirement already satisfied: pandas>=0.25 in c:\\users\\demir\\anaconda3\\lib\\site-packages (from seaborn->missingno) (2.1.1)\n",
      "Requirement already satisfied: pytz>=2020.1 in c:\\users\\demir\\anaconda3\\lib\\site-packages (from pandas>=0.25->seaborn->missingno) (2023.3.post1)\n",
      "Requirement already satisfied: tzdata>=2022.1 in c:\\users\\demir\\anaconda3\\lib\\site-packages (from pandas>=0.25->seaborn->missingno) (2023.3)\n",
      "Requirement already satisfied: six>=1.5 in c:\\users\\demir\\anaconda3\\lib\\site-packages (from python-dateutil>=2.7->matplotlib->missingno) (1.16.0)\n"
     ]
    }
   ],
   "source": [
    "!pip install missingno "
   ]
  },
  {
   "cell_type": "code",
   "execution_count": 226,
   "id": "b69e837d-f5f2-464f-9940-efcb892aa1b7",
   "metadata": {},
   "outputs": [],
   "source": [
    "import missingno as msno"
   ]
  },
  {
   "cell_type": "code",
   "execution_count": 227,
   "id": "75f338d0-77a5-4af0-bcd1-98b802c040d5",
   "metadata": {},
   "outputs": [
    {
     "data": {
      "image/png": "[encoded data removed]",
      "text/plain": [
       "<Figure size 2500x1000 with 3 Axes>"
      ]
     },
     "metadata": {},
     "output_type": "display_data"
    }
   ],
   "source": [
    "msno.bar(peng_orj);"
   ]
  },
  {
   "cell_type": "code",
   "execution_count": 228,
   "id": "a8894bc4-d335-4b36-aeb9-0896a7cb2d57",
   "metadata": {},
   "outputs": [
    {
     "data": {
      "image/png": "[encoded data removed]",
      "text/plain": [
       "<Figure size 2500x1000 with 2 Axes>"
      ]
     },
     "metadata": {},
     "output_type": "display_data"
    }
   ],
   "source": [
    "msno.matrix(peng_orj);"
   ]
  },
  {
   "cell_type": "code",
   "execution_count": 229,
   "id": "84a03fc0-db91-49de-83c0-ebc0a88f802f",
   "metadata": {},
   "outputs": [
    {
     "name": "stdout",
     "output_type": "stream",
     "text": [
      "Silinen satır sayısı: 2\n",
      "Yeni DataFrame boyutu: (342, 7)\n"
     ]
    }
   ],
   "source": [
    "# Her satırdaki NaN değer sayısını hesapla\n",
    "nan_counts = peng_orj.isnull().sum(axis=1)\n",
    "\n",
    "# %50'den fazla NaN içeren satırları seç\n",
    "rows_to_drop = nan_counts[nan_counts > len(peng_orj.columns) / 2].index\n",
    "\n",
    "# DataFrame'den belirlenen satırları kaldır\n",
    "peng_orj.drop(rows_to_drop, inplace=True)\n",
    "\n",
    "# Silinen satır sayısını ve yeni DataFrame boyutunu kontrol et\n",
    "print(f\"Silinen satır sayısı: {len(rows_to_drop)}\")\n",
    "print(f\"Yeni DataFrame boyutu: {peng_orj.shape}\")\n"
   ]
  },
  {
   "cell_type": "code",
   "execution_count": 230,
   "id": "3a3db842-07c8-4aac-981c-230eb86cb989",
   "metadata": {},
   "outputs": [],
   "source": [
    "peng_olcu = peng_orj.select_dtypes(include = ['float64'])  #sayısal değişkenler için işlem yapalım"
   ]
  },
  {
   "cell_type": "code",
   "execution_count": 231,
   "id": "560ca57e-67da-4b6b-b1fe-44b1e79ab35f",
   "metadata": {},
   "outputs": [
    {
     "data": {
      "text/html": [
       "<div>\n",
       "<style scoped>\n",
       "    .dataframe tbody tr th:only-of-type {\n",
       "        vertical-align: middle;\n",
       "    }\n",
       "\n",
       "    .dataframe tbody tr th {\n",
       "        vertical-align: top;\n",
       "    }\n",
       "\n",
       "    .dataframe thead th {\n",
       "        text-align: right;\n",
       "    }\n",
       "</style>\n",
       "<table border=\"1\" class=\"dataframe\">\n",
       "  <thead>\n",
       "    <tr style=\"text-align: right;\">\n",
       "      <th></th>\n",
       "      <th>culmen_length_mm</th>\n",
       "      <th>culmen_depth_mm</th>\n",
       "      <th>flipper_length_mm</th>\n",
       "      <th>body_mass_g</th>\n",
       "    </tr>\n",
       "  </thead>\n",
       "  <tbody>\n",
       "  </tbody>\n",
       "</table>\n",
       "</div>"
      ],
      "text/plain": [
       "Empty DataFrame\n",
       "Columns: [culmen_length_mm, culmen_depth_mm, flipper_length_mm, body_mass_g]\n",
       "Index: []"
      ]
     },
     "execution_count": 231,
     "metadata": {},
     "output_type": "execute_result"
    }
   ],
   "source": [
    "peng_olcu[peng_olcu.isnull().any(axis=1)]"
   ]
  },
  {
   "cell_type": "markdown",
   "id": "4996151b-7500-46c2-a190-36ffafb540e9",
   "metadata": {},
   "source": [
    "Sayı tipinde eksik verimiz kalmamış."
   ]
  },
  {
   "cell_type": "code",
   "execution_count": 235,
   "id": "0f3511a1-d9b3-4bc3-b710-3a75385018d1",
   "metadata": {},
   "outputs": [],
   "source": [
    "peng_orj[peng_olcu.columns] = peng_olcu\n"
   ]
  },
  {
   "cell_type": "markdown",
   "id": "63e558e9-2d60-4cc1-acbe-e0a0c9c0a471",
   "metadata": {},
   "source": [
    "String tipinde değişkenlere bakalım."
   ]
  },
  {
   "cell_type": "code",
   "execution_count": 236,
   "id": "935ccdf5-325a-44df-9b44-87c74283456b",
   "metadata": {},
   "outputs": [],
   "source": [
    "peng_str = peng_orj.select_dtypes(include = ['object'])"
   ]
  },
  {
   "cell_type": "code",
   "execution_count": 237,
   "id": "6e8fa3ab-2d41-4007-b8d5-47b56b49dd72",
   "metadata": {},
   "outputs": [
    {
     "data": {
      "text/html": [
       "<div>\n",
       "<style scoped>\n",
       "    .dataframe tbody tr th:only-of-type {\n",
       "        vertical-align: middle;\n",
       "    }\n",
       "\n",
       "    .dataframe tbody tr th {\n",
       "        vertical-align: top;\n",
       "    }\n",
       "\n",
       "    .dataframe thead th {\n",
       "        text-align: right;\n",
       "    }\n",
       "</style>\n",
       "<table border=\"1\" class=\"dataframe\">\n",
       "  <thead>\n",
       "    <tr style=\"text-align: right;\">\n",
       "      <th></th>\n",
       "      <th>species</th>\n",
       "      <th>island</th>\n",
       "      <th>sex</th>\n",
       "    </tr>\n",
       "  </thead>\n",
       "  <tbody>\n",
       "    <tr>\n",
       "      <th>8</th>\n",
       "      <td>Adelie</td>\n",
       "      <td>Torgersen</td>\n",
       "      <td>NaN</td>\n",
       "    </tr>\n",
       "    <tr>\n",
       "      <th>9</th>\n",
       "      <td>Adelie</td>\n",
       "      <td>Torgersen</td>\n",
       "      <td>NaN</td>\n",
       "    </tr>\n",
       "    <tr>\n",
       "      <th>10</th>\n",
       "      <td>Adelie</td>\n",
       "      <td>Torgersen</td>\n",
       "      <td>NaN</td>\n",
       "    </tr>\n",
       "    <tr>\n",
       "      <th>11</th>\n",
       "      <td>Adelie</td>\n",
       "      <td>Torgersen</td>\n",
       "      <td>NaN</td>\n",
       "    </tr>\n",
       "    <tr>\n",
       "      <th>47</th>\n",
       "      <td>Adelie</td>\n",
       "      <td>Dream</td>\n",
       "      <td>NaN</td>\n",
       "    </tr>\n",
       "    <tr>\n",
       "      <th>246</th>\n",
       "      <td>Gentoo</td>\n",
       "      <td>Biscoe</td>\n",
       "      <td>NaN</td>\n",
       "    </tr>\n",
       "    <tr>\n",
       "      <th>286</th>\n",
       "      <td>Gentoo</td>\n",
       "      <td>Biscoe</td>\n",
       "      <td>NaN</td>\n",
       "    </tr>\n",
       "    <tr>\n",
       "      <th>324</th>\n",
       "      <td>Gentoo</td>\n",
       "      <td>Biscoe</td>\n",
       "      <td>NaN</td>\n",
       "    </tr>\n",
       "    <tr>\n",
       "      <th>336</th>\n",
       "      <td>Gentoo</td>\n",
       "      <td>Biscoe</td>\n",
       "      <td>NaN</td>\n",
       "    </tr>\n",
       "  </tbody>\n",
       "</table>\n",
       "</div>"
      ],
      "text/plain": [
       "    species     island  sex\n",
       "8    Adelie  Torgersen  NaN\n",
       "9    Adelie  Torgersen  NaN\n",
       "10   Adelie  Torgersen  NaN\n",
       "11   Adelie  Torgersen  NaN\n",
       "47   Adelie      Dream  NaN\n",
       "246  Gentoo     Biscoe  NaN\n",
       "286  Gentoo     Biscoe  NaN\n",
       "324  Gentoo     Biscoe  NaN\n",
       "336  Gentoo     Biscoe  NaN"
      ]
     },
     "execution_count": 237,
     "metadata": {},
     "output_type": "execute_result"
    }
   ],
   "source": [
    "peng_str[peng_str.isnull().any(axis=1)]"
   ]
  },
  {
   "cell_type": "code",
   "execution_count": 238,
   "id": "9177339e-f191-4d1f-adc4-a4e44d26fb0a",
   "metadata": {},
   "outputs": [
    {
     "name": "stdout",
     "output_type": "stream",
     "text": [
      "island\n",
      "Biscoe         MALE\n",
      "Dream          MALE\n",
      "Torgersen    FEMALE\n",
      "Name: sex, dtype: object\n"
     ]
    }
   ],
   "source": [
    "# Gruplama ve cinsiyet sütununun modunu almak için bir fonksiyon tanımlayalım\n",
    "def calculate_mode(x):\n",
    "    return x.mode()[0] if len(x.mode()) > 0 else np.nan\n",
    "\n",
    "# Gruplama işlemi ve mod hesaplama\n",
    "mode_by_island = peng_str.groupby(\"island\")[\"sex\"].agg(calculate_mode)\n",
    "print(mode_by_island)"
   ]
  },
  {
   "cell_type": "code",
   "execution_count": 239,
   "id": "bc69761d-dc42-4a9c-9913-c878ed58084e",
   "metadata": {},
   "outputs": [
    {
     "name": "stdout",
     "output_type": "stream",
     "text": [
      "    species     island     sex\n",
      "0    Adelie  Torgersen    MALE\n",
      "1    Adelie  Torgersen  FEMALE\n",
      "2    Adelie  Torgersen  FEMALE\n",
      "4    Adelie  Torgersen  FEMALE\n",
      "5    Adelie  Torgersen    MALE\n",
      "..      ...        ...     ...\n",
      "338  Gentoo     Biscoe  FEMALE\n",
      "340  Gentoo     Biscoe  FEMALE\n",
      "341  Gentoo     Biscoe    MALE\n",
      "342  Gentoo     Biscoe  FEMALE\n",
      "343  Gentoo     Biscoe    MALE\n",
      "\n",
      "[342 rows x 3 columns]\n"
     ]
    }
   ],
   "source": [
    "# Her adanın cinsiyet sütunundaki modunu bulalım\n",
    "mode_by_island = peng_str.groupby(\"island\")[\"sex\"].agg(lambda x: x.mode()[0] if not x.mode().empty else np.nan)\n",
    "\n",
    "# Her adanın modunu eksik değerlerin yerine dolduralım\n",
    "peng_str['sex'] = peng_str.apply(lambda row: mode_by_island[row['island']] if pd.isnull(row['sex']) else row['sex'], axis=1)\n",
    "\n",
    "# Güncellenmiş DataFrame'i gösterelim\n",
    "print(peng_str)"
   ]
  },
  {
   "cell_type": "code",
   "execution_count": 240,
   "id": "b34041c6-6194-466d-9693-8ff02f6ec342",
   "metadata": {},
   "outputs": [
    {
     "data": {
      "text/html": [
       "<div>\n",
       "<style scoped>\n",
       "    .dataframe tbody tr th:only-of-type {\n",
       "        vertical-align: middle;\n",
       "    }\n",
       "\n",
       "    .dataframe tbody tr th {\n",
       "        vertical-align: top;\n",
       "    }\n",
       "\n",
       "    .dataframe thead th {\n",
       "        text-align: right;\n",
       "    }\n",
       "</style>\n",
       "<table border=\"1\" class=\"dataframe\">\n",
       "  <thead>\n",
       "    <tr style=\"text-align: right;\">\n",
       "      <th></th>\n",
       "      <th>species</th>\n",
       "      <th>island</th>\n",
       "      <th>sex</th>\n",
       "    </tr>\n",
       "  </thead>\n",
       "  <tbody>\n",
       "  </tbody>\n",
       "</table>\n",
       "</div>"
      ],
      "text/plain": [
       "Empty DataFrame\n",
       "Columns: [species, island, sex]\n",
       "Index: []"
      ]
     },
     "execution_count": 240,
     "metadata": {},
     "output_type": "execute_result"
    }
   ],
   "source": [
    "peng_str[peng_str.isnull().any(axis=1)]"
   ]
  },
  {
   "cell_type": "markdown",
   "id": "e301ef6f-539e-45f2-851a-0f56ead4d966",
   "metadata": {},
   "source": [
    "Sözel eksik verilerimizi de doldurduk."
   ]
  },
  {
   "cell_type": "code",
   "execution_count": 241,
   "id": "662b08d0-f8f6-41ef-9357-079d54bdcf75",
   "metadata": {},
   "outputs": [],
   "source": [
    "peng_orj[peng_str.columns] = peng_str"
   ]
  },
  {
   "cell_type": "code",
   "execution_count": 242,
   "id": "b86d6a9c-2be6-4a22-8724-2c4712ee5be5",
   "metadata": {},
   "outputs": [
    {
     "data": {
      "text/html": [
       "<div>\n",
       "<style scoped>\n",
       "    .dataframe tbody tr th:only-of-type {\n",
       "        vertical-align: middle;\n",
       "    }\n",
       "\n",
       "    .dataframe tbody tr th {\n",
       "        vertical-align: top;\n",
       "    }\n",
       "\n",
       "    .dataframe thead th {\n",
       "        text-align: right;\n",
       "    }\n",
       "</style>\n",
       "<table border=\"1\" class=\"dataframe\">\n",
       "  <thead>\n",
       "    <tr style=\"text-align: right;\">\n",
       "      <th></th>\n",
       "      <th>species</th>\n",
       "      <th>island</th>\n",
       "      <th>culmen_length_mm</th>\n",
       "      <th>culmen_depth_mm</th>\n",
       "      <th>flipper_length_mm</th>\n",
       "      <th>body_mass_g</th>\n",
       "      <th>sex</th>\n",
       "    </tr>\n",
       "  </thead>\n",
       "  <tbody>\n",
       "    <tr>\n",
       "      <th>0</th>\n",
       "      <td>Adelie</td>\n",
       "      <td>Torgersen</td>\n",
       "      <td>37.8</td>\n",
       "      <td>18.7</td>\n",
       "      <td>181.0</td>\n",
       "      <td>3750.0</td>\n",
       "      <td>MALE</td>\n",
       "    </tr>\n",
       "    <tr>\n",
       "      <th>1</th>\n",
       "      <td>Adelie</td>\n",
       "      <td>Torgersen</td>\n",
       "      <td>35.5</td>\n",
       "      <td>17.4</td>\n",
       "      <td>186.0</td>\n",
       "      <td>3800.0</td>\n",
       "      <td>FEMALE</td>\n",
       "    </tr>\n",
       "    <tr>\n",
       "      <th>2</th>\n",
       "      <td>Adelie</td>\n",
       "      <td>Torgersen</td>\n",
       "      <td>40.3</td>\n",
       "      <td>18.0</td>\n",
       "      <td>195.0</td>\n",
       "      <td>3250.0</td>\n",
       "      <td>FEMALE</td>\n",
       "    </tr>\n",
       "    <tr>\n",
       "      <th>4</th>\n",
       "      <td>Adelie</td>\n",
       "      <td>Torgersen</td>\n",
       "      <td>36.7</td>\n",
       "      <td>19.3</td>\n",
       "      <td>193.0</td>\n",
       "      <td>3450.0</td>\n",
       "      <td>FEMALE</td>\n",
       "    </tr>\n",
       "    <tr>\n",
       "      <th>5</th>\n",
       "      <td>Adelie</td>\n",
       "      <td>Torgersen</td>\n",
       "      <td>39.3</td>\n",
       "      <td>20.6</td>\n",
       "      <td>190.0</td>\n",
       "      <td>3650.0</td>\n",
       "      <td>MALE</td>\n",
       "    </tr>\n",
       "    <tr>\n",
       "      <th>...</th>\n",
       "      <td>...</td>\n",
       "      <td>...</td>\n",
       "      <td>...</td>\n",
       "      <td>...</td>\n",
       "      <td>...</td>\n",
       "      <td>...</td>\n",
       "      <td>...</td>\n",
       "    </tr>\n",
       "    <tr>\n",
       "      <th>338</th>\n",
       "      <td>Gentoo</td>\n",
       "      <td>Biscoe</td>\n",
       "      <td>47.2</td>\n",
       "      <td>13.7</td>\n",
       "      <td>214.0</td>\n",
       "      <td>4925.0</td>\n",
       "      <td>FEMALE</td>\n",
       "    </tr>\n",
       "    <tr>\n",
       "      <th>340</th>\n",
       "      <td>Gentoo</td>\n",
       "      <td>Biscoe</td>\n",
       "      <td>46.8</td>\n",
       "      <td>14.3</td>\n",
       "      <td>215.0</td>\n",
       "      <td>4850.0</td>\n",
       "      <td>FEMALE</td>\n",
       "    </tr>\n",
       "    <tr>\n",
       "      <th>341</th>\n",
       "      <td>Gentoo</td>\n",
       "      <td>Biscoe</td>\n",
       "      <td>50.4</td>\n",
       "      <td>15.7</td>\n",
       "      <td>222.0</td>\n",
       "      <td>5750.0</td>\n",
       "      <td>MALE</td>\n",
       "    </tr>\n",
       "    <tr>\n",
       "      <th>342</th>\n",
       "      <td>Gentoo</td>\n",
       "      <td>Biscoe</td>\n",
       "      <td>45.2</td>\n",
       "      <td>14.8</td>\n",
       "      <td>212.0</td>\n",
       "      <td>5200.0</td>\n",
       "      <td>FEMALE</td>\n",
       "    </tr>\n",
       "    <tr>\n",
       "      <th>343</th>\n",
       "      <td>Gentoo</td>\n",
       "      <td>Biscoe</td>\n",
       "      <td>49.9</td>\n",
       "      <td>16.1</td>\n",
       "      <td>213.0</td>\n",
       "      <td>5400.0</td>\n",
       "      <td>MALE</td>\n",
       "    </tr>\n",
       "  </tbody>\n",
       "</table>\n",
       "<p>342 rows × 7 columns</p>\n",
       "</div>"
      ],
      "text/plain": [
       "    species     island  culmen_length_mm  culmen_depth_mm  flipper_length_mm  \\\n",
       "0    Adelie  Torgersen              37.8             18.7              181.0   \n",
       "1    Adelie  Torgersen              35.5             17.4              186.0   \n",
       "2    Adelie  Torgersen              40.3             18.0              195.0   \n",
       "4    Adelie  Torgersen              36.7             19.3              193.0   \n",
       "5    Adelie  Torgersen              39.3             20.6              190.0   \n",
       "..      ...        ...               ...              ...                ...   \n",
       "338  Gentoo     Biscoe              47.2             13.7              214.0   \n",
       "340  Gentoo     Biscoe              46.8             14.3              215.0   \n",
       "341  Gentoo     Biscoe              50.4             15.7              222.0   \n",
       "342  Gentoo     Biscoe              45.2             14.8              212.0   \n",
       "343  Gentoo     Biscoe              49.9             16.1              213.0   \n",
       "\n",
       "     body_mass_g     sex  \n",
       "0         3750.0    MALE  \n",
       "1         3800.0  FEMALE  \n",
       "2         3250.0  FEMALE  \n",
       "4         3450.0  FEMALE  \n",
       "5         3650.0    MALE  \n",
       "..           ...     ...  \n",
       "338       4925.0  FEMALE  \n",
       "340       4850.0  FEMALE  \n",
       "341       5750.0    MALE  \n",
       "342       5200.0  FEMALE  \n",
       "343       5400.0    MALE  \n",
       "\n",
       "[342 rows x 7 columns]"
      ]
     },
     "execution_count": 242,
     "metadata": {},
     "output_type": "execute_result"
    }
   ],
   "source": [
    "peng_orj"
   ]
  },
  {
   "cell_type": "code",
   "execution_count": 243,
   "id": "1f95378e-2684-4770-afc3-81b99ba5cf65",
   "metadata": {},
   "outputs": [
    {
     "data": {
      "text/html": [
       "<div>\n",
       "<style scoped>\n",
       "    .dataframe tbody tr th:only-of-type {\n",
       "        vertical-align: middle;\n",
       "    }\n",
       "\n",
       "    .dataframe tbody tr th {\n",
       "        vertical-align: top;\n",
       "    }\n",
       "\n",
       "    .dataframe thead th {\n",
       "        text-align: right;\n",
       "    }\n",
       "</style>\n",
       "<table border=\"1\" class=\"dataframe\">\n",
       "  <thead>\n",
       "    <tr style=\"text-align: right;\">\n",
       "      <th></th>\n",
       "      <th>species</th>\n",
       "      <th>island</th>\n",
       "      <th>culmen_length_mm</th>\n",
       "      <th>culmen_depth_mm</th>\n",
       "      <th>flipper_length_mm</th>\n",
       "      <th>body_mass_g</th>\n",
       "      <th>sex</th>\n",
       "    </tr>\n",
       "  </thead>\n",
       "  <tbody>\n",
       "  </tbody>\n",
       "</table>\n",
       "</div>"
      ],
      "text/plain": [
       "Empty DataFrame\n",
       "Columns: [species, island, culmen_length_mm, culmen_depth_mm, flipper_length_mm, body_mass_g, sex]\n",
       "Index: []"
      ]
     },
     "execution_count": 243,
     "metadata": {},
     "output_type": "execute_result"
    }
   ],
   "source": [
    "peng_orj[peng_str.isnull().any(axis=1)]"
   ]
  },
  {
   "cell_type": "markdown",
   "id": "cb49f721-4bbf-45af-b41e-1b48eacfd685",
   "metadata": {},
   "source": [
    "Görüldüğü üzere boş değerimiz kalmadı."
   ]
  },
  {
   "cell_type": "code",
   "execution_count": 244,
   "id": "ea1b1dfc-57b2-4353-8f92-4a70ed62afa4",
   "metadata": {},
   "outputs": [],
   "source": [
    "peng_orj.to_csv('clean_penguins.xlsx', index=False)"
   ]
  },
  {
   "cell_type": "code",
   "execution_count": 245,
   "id": "c8f1d4b6-21b4-4c48-9449-50c9c45ff22a",
   "metadata": {},
   "outputs": [
    {
     "data": {
      "text/html": [
       "<div>\n",
       "<style scoped>\n",
       "    .dataframe tbody tr th:only-of-type {\n",
       "        vertical-align: middle;\n",
       "    }\n",
       "\n",
       "    .dataframe tbody tr th {\n",
       "        vertical-align: top;\n",
       "    }\n",
       "\n",
       "    .dataframe thead th {\n",
       "        text-align: right;\n",
       "    }\n",
       "</style>\n",
       "<table border=\"1\" class=\"dataframe\">\n",
       "  <thead>\n",
       "    <tr style=\"text-align: right;\">\n",
       "      <th></th>\n",
       "      <th>species</th>\n",
       "      <th>island</th>\n",
       "      <th>culmen_length_mm</th>\n",
       "      <th>culmen_depth_mm</th>\n",
       "      <th>flipper_length_mm</th>\n",
       "      <th>body_mass_g</th>\n",
       "      <th>sex</th>\n",
       "    </tr>\n",
       "  </thead>\n",
       "  <tbody>\n",
       "    <tr>\n",
       "      <th>0</th>\n",
       "      <td>Adelie</td>\n",
       "      <td>Torgersen</td>\n",
       "      <td>37.8</td>\n",
       "      <td>18.7</td>\n",
       "      <td>181.0</td>\n",
       "      <td>3750.0</td>\n",
       "      <td>MALE</td>\n",
       "    </tr>\n",
       "    <tr>\n",
       "      <th>1</th>\n",
       "      <td>Adelie</td>\n",
       "      <td>Torgersen</td>\n",
       "      <td>35.5</td>\n",
       "      <td>17.4</td>\n",
       "      <td>186.0</td>\n",
       "      <td>3800.0</td>\n",
       "      <td>FEMALE</td>\n",
       "    </tr>\n",
       "    <tr>\n",
       "      <th>2</th>\n",
       "      <td>Adelie</td>\n",
       "      <td>Torgersen</td>\n",
       "      <td>40.3</td>\n",
       "      <td>18.0</td>\n",
       "      <td>195.0</td>\n",
       "      <td>3250.0</td>\n",
       "      <td>FEMALE</td>\n",
       "    </tr>\n",
       "    <tr>\n",
       "      <th>3</th>\n",
       "      <td>Adelie</td>\n",
       "      <td>Torgersen</td>\n",
       "      <td>36.7</td>\n",
       "      <td>19.3</td>\n",
       "      <td>193.0</td>\n",
       "      <td>3450.0</td>\n",
       "      <td>FEMALE</td>\n",
       "    </tr>\n",
       "    <tr>\n",
       "      <th>4</th>\n",
       "      <td>Adelie</td>\n",
       "      <td>Torgersen</td>\n",
       "      <td>39.3</td>\n",
       "      <td>20.6</td>\n",
       "      <td>190.0</td>\n",
       "      <td>3650.0</td>\n",
       "      <td>MALE</td>\n",
       "    </tr>\n",
       "    <tr>\n",
       "      <th>...</th>\n",
       "      <td>...</td>\n",
       "      <td>...</td>\n",
       "      <td>...</td>\n",
       "      <td>...</td>\n",
       "      <td>...</td>\n",
       "      <td>...</td>\n",
       "      <td>...</td>\n",
       "    </tr>\n",
       "    <tr>\n",
       "      <th>337</th>\n",
       "      <td>Gentoo</td>\n",
       "      <td>Biscoe</td>\n",
       "      <td>47.2</td>\n",
       "      <td>13.7</td>\n",
       "      <td>214.0</td>\n",
       "      <td>4925.0</td>\n",
       "      <td>FEMALE</td>\n",
       "    </tr>\n",
       "    <tr>\n",
       "      <th>338</th>\n",
       "      <td>Gentoo</td>\n",
       "      <td>Biscoe</td>\n",
       "      <td>46.8</td>\n",
       "      <td>14.3</td>\n",
       "      <td>215.0</td>\n",
       "      <td>4850.0</td>\n",
       "      <td>FEMALE</td>\n",
       "    </tr>\n",
       "    <tr>\n",
       "      <th>339</th>\n",
       "      <td>Gentoo</td>\n",
       "      <td>Biscoe</td>\n",
       "      <td>50.4</td>\n",
       "      <td>15.7</td>\n",
       "      <td>222.0</td>\n",
       "      <td>5750.0</td>\n",
       "      <td>MALE</td>\n",
       "    </tr>\n",
       "    <tr>\n",
       "      <th>340</th>\n",
       "      <td>Gentoo</td>\n",
       "      <td>Biscoe</td>\n",
       "      <td>45.2</td>\n",
       "      <td>14.8</td>\n",
       "      <td>212.0</td>\n",
       "      <td>5200.0</td>\n",
       "      <td>FEMALE</td>\n",
       "    </tr>\n",
       "    <tr>\n",
       "      <th>341</th>\n",
       "      <td>Gentoo</td>\n",
       "      <td>Biscoe</td>\n",
       "      <td>49.9</td>\n",
       "      <td>16.1</td>\n",
       "      <td>213.0</td>\n",
       "      <td>5400.0</td>\n",
       "      <td>MALE</td>\n",
       "    </tr>\n",
       "  </tbody>\n",
       "</table>\n",
       "<p>342 rows × 7 columns</p>\n",
       "</div>"
      ],
      "text/plain": [
       "    species     island  culmen_length_mm  culmen_depth_mm  flipper_length_mm  \\\n",
       "0    Adelie  Torgersen              37.8             18.7              181.0   \n",
       "1    Adelie  Torgersen              35.5             17.4              186.0   \n",
       "2    Adelie  Torgersen              40.3             18.0              195.0   \n",
       "3    Adelie  Torgersen              36.7             19.3              193.0   \n",
       "4    Adelie  Torgersen              39.3             20.6              190.0   \n",
       "..      ...        ...               ...              ...                ...   \n",
       "337  Gentoo     Biscoe              47.2             13.7              214.0   \n",
       "338  Gentoo     Biscoe              46.8             14.3              215.0   \n",
       "339  Gentoo     Biscoe              50.4             15.7              222.0   \n",
       "340  Gentoo     Biscoe              45.2             14.8              212.0   \n",
       "341  Gentoo     Biscoe              49.9             16.1              213.0   \n",
       "\n",
       "     body_mass_g     sex  \n",
       "0         3750.0    MALE  \n",
       "1         3800.0  FEMALE  \n",
       "2         3250.0  FEMALE  \n",
       "3         3450.0  FEMALE  \n",
       "4         3650.0    MALE  \n",
       "..           ...     ...  \n",
       "337       4925.0  FEMALE  \n",
       "338       4850.0  FEMALE  \n",
       "339       5750.0    MALE  \n",
       "340       5200.0  FEMALE  \n",
       "341       5400.0    MALE  \n",
       "\n",
       "[342 rows x 7 columns]"
      ]
     },
     "execution_count": 245,
     "metadata": {},
     "output_type": "execute_result"
    }
   ],
   "source": [
    "clean_penguins=pd.read_csv('clean_penguins.xlsx')\n",
    "clean_penguins"
   ]
  },
  {
   "cell_type": "code",
   "execution_count": null,
   "id": "63c340c1-4b9e-4a88-86c2-b0c127b83227",
   "metadata": {},
   "outputs": [],
   "source": []
  },
  {
   "cell_type": "code",
   "execution_count": null,
   "id": "b32e5d67-ca53-4287-a640-7d0cc8a8594c",
   "metadata": {},
   "outputs": [],
   "source": []
  }
 ],
 "metadata": {
  "kernelspec": {
   "display_name": "Python 3 (ipykernel)",
   "language": "python",
   "name": "python3"
  },
  "language_info": {
   "codemirror_mode": {
    "name": "ipython",
    "version": 3
   },
   "file_extension": ".py",
   "mimetype": "text/x-python",
   "name": "python",
   "nbconvert_exporter": "python",
   "pygments_lexer": "ipython3",
   "version": "3.11.5"
  }
 },
 "nbformat": 4,
 "nbformat_minor": 5
}
